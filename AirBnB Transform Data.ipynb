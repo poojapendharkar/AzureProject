{
 "cells": [
  {
   "cell_type": "code",
   "execution_count": null,
   "metadata": {
    "application/vnd.databricks.v1+cell": {
     "cellMetadata": {
      "byteLimit": 2048000,
      "rowLimit": 10000
     },
     "inputWidgets": {},
     "nuid": "b3ee7f0f-0ccf-4aa1-a627-4ff5c3434127",
     "showTitle": false,
     "title": ""
    }
   },
   "outputs": [],
   "source": [
    "from pyspark.sql import Window\n",
    "from pyspark.sql.functions import col, desc, row_number, first\n",
    "from pyspark.sql.types import IntegerType, DoubleType, BooleanType, DateType, FloatType"
   ]
  },
  {
   "cell_type": "code",
   "execution_count": null,
   "metadata": {
    "application/vnd.databricks.v1+cell": {
     "cellMetadata": {
      "byteLimit": 2048000,
      "rowLimit": 10000
     },
     "inputWidgets": {},
     "nuid": "082a1ff6-6985-4990-980d-8c17c23a9437",
     "showTitle": false,
     "title": ""
    }
   },
   "outputs": [
    {
     "data": {
      "text/plain": [
       "True"
      ]
     },
     "execution_count": 1,
     "metadata": {},
     "output_type": "execute_result"
    }
   ],
   "source": [
    "\n",
    "#Instead of keyvault we are using the id and key directly here\n",
    "configs = {\"fs.azure.account.auth.type\": \"OAuth\",\n",
    "\"fs.azure.account.oauth.provider.type\": \"org.apache.hadoop.fs.azurebfs.oauth2.ClientCredsTokenProvider\",\n",
    "\"fs.azure.account.oauth2.client.id\": \"\",\n",
    "\"fs.azure.account.oauth2.client.secret\": '',\n",
    "\"fs.azure.account.oauth2.client.endpoint\": \"https://login.microsoftonline.com/code/oauth2/token\"}\n",
    "\n",
    "\n",
    "dbutils.fs.mount(\n",
    "source = \"abfss://airbnbdata@airbnbprojectpoojap.dfs.core.windows.net\", # contrainer@storageacc\n",
    "mount_point = \"/mnt/airbnbmountdata\",\n",
    "extra_configs = configs)\n",
    "  \n",
    "#now we check if mount was successful"
   ]
  },
  {
   "cell_type": "code",
   "execution_count": null,
   "metadata": {
    "application/vnd.databricks.v1+cell": {
     "cellMetadata": {
      "byteLimit": 2048000,
      "rowLimit": 10000
     },
     "inputWidgets": {},
     "nuid": "e788994a-d7e3-4e20-a79d-283c8632de8a",
     "showTitle": false,
     "title": ""
    }
   },
   "outputs": [
    {
     "data": {
      "text/html": [
       "<style scoped>\n",
       "  .table-result-container {\n",
       "    max-height: 300px;\n",
       "    overflow: auto;\n",
       "  }\n",
       "  table, th, td {\n",
       "    border: 1px solid black;\n",
       "    border-collapse: collapse;\n",
       "  }\n",
       "  th, td {\n",
       "    padding: 5px;\n",
       "  }\n",
       "  th {\n",
       "    text-align: left;\n",
       "  }\n",
       "</style><div class='table-result-container'><table class='table-result'><thead style='background-color: white'><tr><th>path</th><th>name</th><th>size</th><th>modificationTime</th></tr></thead><tbody><tr><td>dbfs:/mnt/airbnbmountdata/raw-data/</td><td>raw-data/</td><td>0</td><td>1700332641000</td></tr><tr><td>dbfs:/mnt/airbnbmountdata/transformed-data/</td><td>transformed-data/</td><td>0</td><td>1700332679000</td></tr></tbody></table></div>"
      ]
     },
     "metadata": {
      "application/vnd.databricks.v1+output": {
       "addedWidgets": {},
       "aggData": [],
       "aggError": "",
       "aggOverflow": false,
       "aggSchema": [],
       "aggSeriesLimitReached": false,
       "aggType": "",
       "arguments": {},
       "columnCustomDisplayInfos": {},
       "data": [
        [
         "dbfs:/mnt/airbnbmountdata/raw-data/",
         "raw-data/",
         0,
         1700332641000
        ],
        [
         "dbfs:/mnt/airbnbmountdata/transformed-data/",
         "transformed-data/",
         0,
         1700332679000
        ]
       ],
       "datasetInfos": [],
       "dbfsResultPath": null,
       "isJsonSchema": true,
       "metadata": {
        "isDbfsCommandResult": false
       },
       "overflow": false,
       "plotOptions": {
        "customPlotOptions": {},
        "displayType": "table",
        "pivotAggregation": null,
        "pivotColumns": null,
        "xColumns": null,
        "yColumns": null
       },
       "removedWidgets": [],
       "schema": [
        {
         "metadata": "{}",
         "name": "path",
         "type": "\"string\""
        },
        {
         "metadata": "{}",
         "name": "name",
         "type": "\"string\""
        },
        {
         "metadata": "{}",
         "name": "size",
         "type": "\"long\""
        },
        {
         "metadata": "{}",
         "name": "modificationTime",
         "type": "\"long\""
        }
       ],
       "type": "table"
      }
     },
     "output_type": "display_data"
    }
   ],
   "source": [
    "%fs\n",
    "ls \"/mnt/airbnbmountdata\""
   ]
  },
  {
   "cell_type": "code",
   "execution_count": null,
   "metadata": {
    "application/vnd.databricks.v1+cell": {
     "cellMetadata": {
      "byteLimit": 2048000,
      "rowLimit": 10000
     },
     "inputWidgets": {},
     "nuid": "d6befea0-12da-425a-8768-e5cbddbf4f97",
     "showTitle": false,
     "title": ""
    }
   },
   "outputs": [],
   "source": [
    "listings = spark.read.format(\"csv\").option(\"header\",\"true\").option(\"inferSchema\",\"true\").load(\"/mnt/airbnbmountdata/raw-data/bostonlistings.csv\")\n",
    "reviews = spark.read.format(\"csv\").option(\"header\",\"true\").option(\"inferSchema\",\"true\").load(\"/mnt/airbnbmountdata/raw-data/bostonreviews.csv\")"
   ]
  },
  {
   "cell_type": "code",
   "execution_count": null,
   "metadata": {
    "application/vnd.databricks.v1+cell": {
     "cellMetadata": {
      "byteLimit": 2048000,
      "rowLimit": 10000
     },
     "inputWidgets": {},
     "nuid": "7835e940-e7cd-4c30-899d-e0f44ee71cff",
     "showTitle": false,
     "title": ""
    }
   },
   "outputs": [
    {
     "name": "stdout",
     "output_type": "stream",
     "text": [
      "+--------------------+--------------------+--------------------+--------------------+--------------------+--------------------+--------------------+---------------------+--------------------+--------------------+--------------------+--------------------+--------------------+--------------------+--------------------+--------------------+------------------+--------------------+--------------------+--------------------+--------------------+------------------+--------------------+-------------------------+--------------------+--------------------+----------------------+--------------------+----------------------+----------------------------+--------------------+--------------------+--------------------+--------------------+--------------------+--------------------+--------------------+--------------------+--------------------+--------------------+--------------------+--------------------+--------------------+----------------------+----------------------+----------------------+----------------------+----------------------+----------------------+--------------------+--------------------+--------------------+--------------------+--------------------+--------------------+---------------------+--------------------+---------------------+----------------------+--------------------+--------------------+--------------------+----------------------+-------------------------+---------------------+---------------------------+----------------------+--------------------+-----------------+--------------------+\n",
      "|                  id|         listing_url|           scrape_id|        last_scraped|              source|                name|         description|neighborhood_overview|         picture_url|             host_id|            host_url|           host_name|          host_since|       host_location|          host_about|  host_response_time|host_response_rate|host_acceptance_rate|   host_is_superhost|  host_thumbnail_url|    host_picture_url|host_neighbourhood| host_listings_count|host_total_listings_count|  host_verifications|host_has_profile_pic|host_identity_verified|       neighbourhood|neighbourhood_cleansed|neighbourhood_group_cleansed|            latitude|           longitude|       property_type|           room_type|        accommodates|           bathrooms|      bathrooms_text|            bedrooms|                beds|           amenities|               price|      minimum_nights|      maximum_nights|minimum_minimum_nights|maximum_minimum_nights|minimum_maximum_nights|maximum_maximum_nights|minimum_nights_avg_ntm|maximum_nights_avg_ntm|    calendar_updated|    has_availability|     availability_30|     availability_60|     availability_90|    availability_365|calendar_last_scraped|   number_of_reviews|number_of_reviews_ltm|number_of_reviews_l30d|        first_review|         last_review|review_scores_rating|review_scores_accuracy|review_scores_cleanliness|review_scores_checkin|review_scores_communication|review_scores_location| review_scores_value|          license|   reviews_per_month|\n",
      "+--------------------+--------------------+--------------------+--------------------+--------------------+--------------------+--------------------+---------------------+--------------------+--------------------+--------------------+--------------------+--------------------+--------------------+--------------------+--------------------+------------------+--------------------+--------------------+--------------------+--------------------+------------------+--------------------+-------------------------+--------------------+--------------------+----------------------+--------------------+----------------------+----------------------------+--------------------+--------------------+--------------------+--------------------+--------------------+--------------------+--------------------+--------------------+--------------------+--------------------+--------------------+--------------------+--------------------+----------------------+----------------------+----------------------+----------------------+----------------------+----------------------+--------------------+--------------------+--------------------+--------------------+--------------------+--------------------+---------------------+--------------------+---------------------+----------------------+--------------------+--------------------+--------------------+----------------------+-------------------------+---------------------+---------------------------+----------------------+--------------------+-----------------+--------------------+\n",
      "|                3781|https://www.airbn...|         2.02309E+13|           9/16/2023|         city scrape|Rental unit in Bo...|Fully separate ap...| \"Mostly quiet ( n...|https://a0.muscac...|                4804|https://www.airbn...|               Frank|           12/3/2008|Massachusetts, Un...|My wife and I and...|        within a day|              100%|                 21%|                   t|https://a0.muscac...|https://a0.muscac...|       East Boston|                   4|                        5|  ['email', 'phone']|                   t|                     f|Boston, Massachus...|           East Boston|                        NULL|            42.36413|           -71.02991|  Entire rental unit|     Entire home/apt|                   2|                NULL|              1 bath|                   1|                   1|          \"[\"\"Iron\"\"|            \"\"Oven\"\"|         \"\"Heating\"\"| \"\"Central air co...|   \"\"Free street pa...|       \"\"Smoke alarm\"\"|           \"\"Shampoo\"\"|            \"\"Washer\"\"|              \"\"Wifi\"\"|   \"\"Patio or balco...| \"\"Carbon monoxid...|    \"\"Refrigerator\"\"|       \"\"Microwave\"\"|         \"\"Kitchen\"\"|      \"\"Dishwasher\"\"|       \"\"Hot water\"\"|       \"\"Hair dryer\"\"| \"\"Dishes and sil...|  \"\"TV with standa...|    \"\"Cooking basics\"\"|         \"\"Hangers\"\"|    \"\"Coffee maker\"\"| \"\"Free parking o...|        \"\"Bed linens\"\"|      \"\"Extra pillows ...|            \"\"Stove\"\"|                  \"\"Dryer\"\"|      \"\"Essentials\"\"]\"|            $125.00 |               29|                1125|\n",
      "|                5506|https://www.airbn...|         2.02309E+13|           9/16/2023|         city scrape|Guest suite in Bo...|Private guest roo...| Peaceful, Archite...|https://a0.muscac...|                8229|https://www.airbn...|               Terry|           2/19/2009|          Boston, MA|Relaxed,  Easy go...|      within an hour|              100%|                100%|                   t|https://a0.muscac...|https://a0.muscac...|           Roxbury|                  11|                       14|  ['email', 'phone']|                   t|                     t|Boston, Massachus...|               Roxbury|                        NULL|            42.32844|           -71.09581|  Entire guest suite|     Entire home/apt|                   2|                NULL|              1 bath|                   1|                   1|          \"[\"\"Iron\"\"|         \"\"Heating\"\"| \"\"Air conditioni...| \"\"Free street pa...|       \"\"Smoke alarm\"\"|           \"\"Shampoo\"\"|            \"\"Washer\"\"|              \"\"Wifi\"\"|     \"\"First aid kit\"\"|   \"\"Carbon monoxid...|          \"\"Keypad\"\"|    \"\"Refrigerator\"\"|       \"\"Microwave\"\"|         \"\"Bathtub\"\"| \"\"Luggage dropof...|       \"\"Hot water\"\"|       \"\"Hair dryer\"\"| \"\"Dishes and sil...|  \"\"TV with standa...|   \"\"Long term stay...| \"\"Private entran...|         \"\"Hangers\"\"|   \"\"Self check-in\"\"|      \"\"Coffee maker\"\"|           \"\"Bed linens\"\"|  \"\"Extra pillows ...|        \"\"Fire extinguis...|             \"\"Dryer\"\"|    \"\"Essentials\"\"]\"|         $149.00 |                   3|\n",
      "|                6695|https://www.airbn...|         2.02309E+13|           9/16/2023|         city scrape|Condo in Boston ·...|Comfortable,  Ful...| Peaceful, Archite...|https://a0.muscac...|                8229|https://www.airbn...|               Terry|           2/19/2009|          Boston, MA|Relaxed,  Easy go...|      within an hour|              100%|                100%|                   t|https://a0.muscac...|https://a0.muscac...|           Roxbury|                  11|                       14|  ['email', 'phone']|                   t|                     t|Boston, Massachus...|               Roxbury|                        NULL|            42.32802|           -71.09387|        Entire condo|     Entire home/apt|                   4|                NULL|              1 bath|                NULL|                   2|          \"[\"\"Iron\"\"|            \"\"Oven\"\"|         \"\"Heating\"\"| \"\"Air conditioni...|   \"\"Free street pa...|       \"\"Smoke alarm\"\"|           \"\"Shampoo\"\"|            \"\"Washer\"\"|              \"\"Wifi\"\"|   \"\"Carbon monoxid...|          \"\"Keypad\"\"|    \"\"Refrigerator\"\"|       \"\"Microwave\"\"|         \"\"Kitchen\"\"|      \"\"Dishwasher\"\"|           \"\"Stove\"\"|  \"\"Luggage dropof...|       \"\"Hot water\"\"|       \"\"Hair dryer\"\"|   \"\"Dishes and sil...| \"\"TV with standa...| \"\"Long term stay...|  \"\"Cooking basics\"\"|           \"\"Hangers\"\"|        \"\"Self check-in\"\"|     \"\"Coffee maker\"\"|        \"\"Fire extinguis...|             \"\"Dryer\"\"|    \"\"Essentials\"\"]\"|         $179.00 |                   3|\n",
      "|                8789|https://www.airbn...|         2.02309E+13|           9/16/2023|         city scrape|Rental unit in Bo...|This unit is for ...| Beacon Hill is a ...|https://a0.muscac...|               26988|https://www.airbn...|                Anne|           7/22/2009|          Boston, MA|I manage a number...|                NULL|              NULL|                NULL|                NULL|                NULL|                NULL|              NULL|                NULL|                     NULL|                NULL|                NULL|                  NULL|                NULL|                  NULL|                        NULL|                NULL|                NULL|                NULL|                NULL|                NULL|                NULL|                NULL|                NULL|                NULL|                NULL|                NULL|                NULL|                NULL|                  NULL|                  NULL|                  NULL|                  NULL|                  NULL|                  NULL|                NULL|                NULL|                NULL|                NULL|                NULL|                NULL|                 NULL|                NULL|                 NULL|                  NULL|                NULL|                NULL|                NULL|                  NULL|                     NULL|                 NULL|                       NULL|                  NULL|                NULL|             NULL|                NULL|\n",
      "|\",within a day,90...|           'phone']\"|                   t|                   t|Boston, Massachus...|         Beacon Hill|                NULL|             42.35867|           -71.06307|  Entire rental unit|     Entire home/apt|                   2|                NULL|              1 bath|                   1|                   1|        \"[\"\"Iron\"\"|         \"\"Heating\"\"| \"\"Air conditioni...|     \"\"Smoke alarm\"\"|          \"\"Washer\"\"|          \"\"Wifi\"\"| \"\"Fire extinguis...|      \"\"Patio or balco...| \"\"Carbon monoxid...| \"\"Paid parking o...|      \"\"Refrigerator\"\"|       \"\"Microwave\"\"|           \"\"Kitchen\"\"|                \"\"Elevator\"\"|       \"\"Hot water\"\"|      \"\"Hair dryer\"\"| \"\"Dishes and sil...| \"\"TV with standa...| \"\"Long term stay...|  \"\"Cooking basics\"\"|         \"\"Hangers\"\"|    \"\"Coffee maker\"\"|           \"\"Stove\"\"|           \"\"Dryer\"\"|    \"\"Essentials\"\"]\"|             $90.00 |                  91|                   365|                    91|                    91|                   365|                   365|                    91|                 365|                NULL|                   t|                   0|                   0|                   0|                  159|           9/16/2023|                   27|                     2|                   1|           8/12/2014|           8/31/2023|                  4.67|                     4.67|                 4.52|                       4.93|                  4.96|                4.96|             4.56|                NULL|\n",
      "|               10813|https://www.airbn...|         2.02309E+13|           9/16/2023|         city scrape|Rental unit in Bo...|\"Stunning Back Ba...|  cafes and shops....|                 A/C|            Cable TV|       Private phone| High Speed Internet|         Non-smoking|        No breakfast|    Queen Murphy bed| Sleeps 2 and pos...|         full gal\"|Wander around thi...|https://a0.muscac...|               38997|https://www.airbn...|          Michelle|           9/16/2009|                     NULL|                NULL|  within a few hours|                   98%|                 39%|                     f|        https://a0.muscac...|https://a0.muscac...|            Back Bay|                  20|                  27|  ['email', 'phone']|                   t|                   t|Boston, Massachus...|            Back Bay|                NULL|            42.35061|           -71.08787|  Entire rental unit|       Entire home/apt|                     2|                  NULL|                1 bath|                  NULL|                     1|          \"[\"\"Iron\"\"|         \"\"Heating\"\"|     \"\"Smoke alarm\"\"|         \"\"Shampoo\"\"|  \"\"Window AC unit\"\"|            \"\"Wifi\"\"|     \"\"Dining table\"\"| \"\"Clothing stora...|  \"\"Carbon monoxid...|      \"\"Refrigerator\"\"|       \"\"Microwave\"\"|         \"\"Kitchen\"\"|      \"\"Dishwasher\"\"|           \"\"Bathtub\"\"|                \"\"Stove\"\"|          \"\"Freezer\"\"|              \"\"Hot water\"\"|        \"\"Hair dryer\"\"| \"\"Dishes and sil...| \"\"Wine glasses\"\"| \"\"TV with standa...|\n",
      "|               10986|https://www.airbn...|         2.02309E+13|           9/16/2023|         city scrape|Condo in Boston ·...|\"Chic furnished s...|  including Northe...| Berklee Univ or ...| stainless steel ...|    Queen Murphy Bed|  includes utilities|                 A/C|               WI-FI|            Cable TV|              linens|            towels| cooking pots/pan...| breakfast bar wo...|                NULL|https://a0.muscac...|             38997|https://www.airbn...|                 Michelle|           9/16/2009|                NULL|                  NULL|  within a few hours|                   98%|                         39%|                   f|https://a0.muscac...|https://a0.muscac...|            Back Bay|                  20|                  27|  ['email', 'phone']|                   t|                   t|                NULL|           North End|                NULL|            42.36377|             -71.05206|          Entire condo|       Entire home/apt|                     2|                  NULL|                1 bath|                NULL|                   1|\"[\"\"Free dryer \\u...|            \"\"Iron\"\"| \"\"Hot water kett...|         \"\"Heating\"\"|      \"\"Smoke alarm\"\"|  \"\"Window AC unit\"\"|             \"\"Wifi\"\"|   \"\"Carbon monoxid...|         \"\"Lockbox\"\"| \"\"Free washer \\u...|    \"\"Refrigerator\"\"|         \"\"Microwave\"\"|              \"\"Kitchen\"\"|       \"\"Dishwasher\"\"|                \"\"Bathtub\"\"|           \"\"Freezer\"\"|    \"\"GE gas stove\"\"|    \"\"Hot water\"\"|      \"\"Hair dryer\"\"|\n",
      "|               18711|https://www.airbn...|         2.02309E+13|           9/16/2023|         city scrape|Rental unit in Bo...|NEW for May 2022!...| Once its own city...|https://a0.muscac...|               71783|https://www.airbn...|               Lance|           1/19/2010|          Boston, MA|Lance R. Swank, P...|                NULL|              NULL|                NULL|                NULL|                NULL|                NULL|              NULL|                NULL|                     NULL|                NULL|                NULL|                  NULL|                NULL|                  NULL|                        NULL|                NULL|                NULL|                NULL|                NULL|                NULL|                NULL|                NULL|                NULL|                NULL|                NULL|                NULL|                NULL|                NULL|                  NULL|                  NULL|                  NULL|                  NULL|                  NULL|                  NULL|                NULL|                NULL|                NULL|                NULL|                NULL|                NULL|                 NULL|                NULL|                 NULL|                  NULL|                NULL|                NULL|                NULL|                  NULL|                     NULL|                 NULL|                       NULL|                  NULL|                NULL|             NULL|                NULL|\n",
      "|His units offer c...| whether a newly ...| hotel-room-like ...|                NULL|                NULL|                NULL|                NULL|                 NULL|                NULL|                NULL|                NULL|                NULL|                NULL|                NULL|                NULL|                NULL|              NULL|                NULL|                NULL|                NULL|                NULL|              NULL|                NULL|                     NULL|                NULL|                NULL|                  NULL|                NULL|                  NULL|                        NULL|                NULL|                NULL|                NULL|                NULL|                NULL|                NULL|                NULL|                NULL|                NULL|                NULL|                NULL|                NULL|                NULL|                  NULL|                  NULL|                  NULL|                  NULL|                  NULL|                  NULL|                NULL|                NULL|                NULL|                NULL|                NULL|                NULL|                 NULL|                NULL|                 NULL|                  NULL|                NULL|                NULL|                NULL|                  NULL|                     NULL|                 NULL|                       NULL|                  NULL|                NULL|             NULL|                NULL|\n",
      "|Lance is the Pres...| LLC and holds an...|  within a few hours|                 78%|                 95%|                   f|https://a0.muscac...| https://a0.muscac...|          Dorchester|                  28|                  64|['email', 'phone'...|                   t|                   t|Boston, Massachus...|          Dorchester|              NULL|            42.32212|           -71.06096|  Entire rental unit|     Entire home/apt|                 7|                NULL|                   1 bath|                   3|                   3|            \"[\"\"Iron\"\"| \"\"Security camer...|              \"\"Oven\"\"|         \"\"Hot water kett...|         \"\"Heating\"\"| \"\"Dedicated work...| \"\"Air conditioni...| \"\"Free street pa...|     \"\"Smoke alarm\"\"|         \"\"Shampoo\"\"|          \"\"Washer\"\"|            \"\"Wifi\"\"| \"\"Carbon monoxid...|    \"\"Refrigerator\"\"|       \"\"Microwave\"\"|         \"\"Kitchen\"\"|      \"\"Dishwasher\"\"|        \"\"Smart lock\"\"|             \"\"Stove\"\"|         \"\"Hot water\"\"|        \"\"Hair dryer\"\"|   \"\"Dishes and sil...|   \"\"TV with standa...| \"\"Clothing stora...|         \"\"Toaster\"\"| \"\"Private entran...|  \"\"Cooking basics\"\"|         \"\"Hangers\"\"|   \"\"Self check-in\"\"|     \"\"Coffee maker\"\"|      \"\"Bed linens\"\"|  \"\"Fire extinguis...|             \"\"Dryer\"\"|    \"\"Essentials\"\"]\"|            $136.00 |                  30|                  1125|                       30|                   30|                       1125|                  1125|                  30|             1125|                NULL|\n",
      "|               29765|https://www.airbn...|         2.02309E+13|           9/16/2023|         city scrape|Rental unit in Bo...|The apartment is ...| Boston's oldest a...|https://a0.muscac...|              128280|https://www.airbn...|           Elizabeth|           5/19/2010|          Boston, MA|Friendly art hist...|                NULL|              NULL|                NULL|                NULL|                NULL|                NULL|              NULL|                NULL|                     NULL|                NULL|                NULL|                  NULL|                NULL|                  NULL|                        NULL|                NULL|                NULL|                NULL|                NULL|                NULL|                NULL|                NULL|                NULL|                NULL|                NULL|                NULL|                NULL|                NULL|                  NULL|                  NULL|                  NULL|                  NULL|                  NULL|                  NULL|                NULL|                NULL|                NULL|                NULL|                NULL|                NULL|                 NULL|                NULL|                 NULL|                  NULL|                NULL|                NULL|                NULL|                  NULL|                     NULL|                 NULL|                       NULL|                  NULL|                NULL|             NULL|                NULL|\n",
      "|Born and raised i...| I love internati...| which is why my ...| decorated in Eur...|           Pan-Asian| and Moroccan sty...|         in this way|  I am also sharin...|  within a few hours|                100%|                100%|                   f|https://a0.muscac...|https://a0.muscac...|         Charlestown|                   1|                 4|  ['email', 'phone']|                   t|                   t|Boston, Massachus...|       Charlestown|                NULL|                 42.37754|           -71.06642|  Entire rental unit|       Entire home/apt|                   2|                  NULL|                      1 bath|                   1|                   1|        \"[\"\"Coffee\"\"|            \"\"Iron\"\"| \"\"Hot water kett...|         \"\"Heating\"\"|     \"\"Smoke alarm\"\"|  \"\"Window AC unit\"\"|            \"\"Wifi\"\"| \"\"Handmade own b...|   \"\"First aid kit\"\"| \"\"Carbon monoxid...| \"\"Noble Isle sha...|         \"\"Microwave\"\"|           \"\"Kitchen\"\"|        \"\"Shower gel\"\"|   \"\"Cleaning produ...|             \"\"Stove\"\"|        \"\"Hair dryer\"\"|       \"\"Hot water\"\"| \"\"Dishes and sil...|    \"\"Wine glasses\"\"| \"\"TV with standa...|         \"\"Toaster\"\"|  \"\"Cooking basics\"\"|          \"\"Hangers\"\"| \"\"Noble Isle con...|     \"\"Coffee maker\"\"|       \"\"Mini fridge\"\"| \"\"Clothing stora...|      \"\"Bed linens\"\"| \"\"Extra pillows ...|   \"\"Host greets you\"\"|      \"\"Fire extinguis...|     \"\"Essentials\"\"]\"|                   $266.00 |                     2|                  28|                2|                   2|\n",
      "|               40601|https://www.airbn...|         2.02309E+13|           9/16/2023|         city scrape|Home in Boston · ...|Private bedroom a...| Jamaica Plain is ...|https://a0.muscac...|              174986|https://www.airbn...|              Robert|           7/20/2010|          Boston, MA|Professional sing...|                NULL|              NULL|                NULL|                NULL|                NULL|                NULL|              NULL|                NULL|                     NULL|                NULL|                NULL|                  NULL|                NULL|                  NULL|                        NULL|                NULL|                NULL|                NULL|                NULL|                NULL|                NULL|                NULL|                NULL|                NULL|                NULL|                NULL|                NULL|                NULL|                  NULL|                  NULL|                  NULL|                  NULL|                  NULL|                  NULL|                NULL|                NULL|                NULL|                NULL|                NULL|                NULL|                 NULL|                NULL|                 NULL|                  NULL|                NULL|                NULL|                NULL|                  NULL|                     NULL|                 NULL|                       NULL|                  NULL|                NULL|             NULL|                NULL|\n",
      "|Outside of work I...| working out and ...|  within a few hours|                100%|                 86%|                   t|https://a0.muscac...| https://a0.muscac...|       Jamaica Plain|                   1|                   1|['email', 'phone'...|                   t|                   t|Boston, Massachus...|       Jamaica Plain|              NULL|            42.31347|           -71.11082|Private room in home|        Private room|                 2|                NULL|                1.5 baths|                NULL|                   1|            \"[\"\"Iron\"\"| \"\"Security camer...|              \"\"Oven\"\"|         \"\"Indoor firepla...| \"\"Hot water kett...|         \"\"Blender\"\"|         \"\"Heating\"\"| \"\"Clothing stora...| \"\"Dedicated work...| \"\"Central air co...| \"\"BBQ grill: cha...| \"\"Free washer \\u...| \"\"55\\\"\" HDTV wit...|     \"\"Garden view\"\"| \"\"Free street pa...|         \"\"Shampoo\"\"|     \"\"Smoke alarm\"\"|      \"\"Dining table\"\"|   \"\"Fast wifi \\u20...|     \"\"First aid kit\"\"|   \"\"Carbon monoxid...|      \"\"Refrigerator\"\"|   \"\"Outdoor furnit...|       \"\"Microwave\"\"|         \"\"Kitchen\"\"|      \"\"Dishwasher\"\"|         \"\"Bathtub\"\"| \"\"Private patio ...| \"\"Cleaning produ...|    \"\"Portable fans\"\"|         \"\"Hammock\"\"|  \"\"Luggage dropof...|     \"\"Record player\"\"|         \"\"Freezer\"\"| \"\"Coffee maker: ...|  pour-over coffee\"\"|   \"\"Stainless stee...|      \"\"Drying rack fo...|  \"\"Outdoor dining...|             \"\"Hair dryer\"\"|         \"\"Hot water\"\"| \"\"Dishes and sil...| \"\"Wine glasses\"\"| \"\"Laundromat nea...|\n",
      "|               45987|https://www.airbn...|         2.02309E+13|           9/16/2023|         city scrape|Rental unit in Ch...|Light and spaciou...| Historical and safe.|https://a0.muscac...|              205107|https://www.airbn...|                Atef|           8/18/2010|          Boston, MA|I am homeowner an...|                NULL|              NULL|                NULL|                NULL|                NULL|                NULL|              NULL|                NULL|                     NULL|                NULL|                NULL|                  NULL|                NULL|                  NULL|                        NULL|                NULL|                NULL|                NULL|                NULL|                NULL|                NULL|                NULL|                NULL|                NULL|                NULL|                NULL|                NULL|                NULL|                  NULL|                  NULL|                  NULL|                  NULL|                  NULL|                  NULL|                NULL|                NULL|                NULL|                NULL|                NULL|                NULL|                 NULL|                NULL|                 NULL|                  NULL|                NULL|                NULL|                NULL|                  NULL|                     NULL|                 NULL|                       NULL|                  NULL|                NULL|             NULL|                NULL|\n",
      "|I love my house w...|           Barcelona|     and  Alexandria|              Egypt.|                NULL|                NULL|                NULL|                 NULL|                NULL|                NULL|                NULL|                NULL|                NULL|                NULL|                NULL|                NULL|              NULL|                NULL|                NULL|                NULL|                NULL|              NULL|                NULL|                     NULL|                NULL|                NULL|                  NULL|                NULL|                  NULL|                        NULL|                NULL|                NULL|                NULL|                NULL|                NULL|                NULL|                NULL|                NULL|                NULL|                NULL|                NULL|                NULL|                NULL|                  NULL|                  NULL|                  NULL|                  NULL|                  NULL|                  NULL|                NULL|                NULL|                NULL|                NULL|                NULL|                NULL|                 NULL|                NULL|                 NULL|                  NULL|                NULL|                NULL|                NULL|                  NULL|                     NULL|                 NULL|                       NULL|                  NULL|                NULL|             NULL|                NULL|\n",
      "|I love to exercis...| cycling and weig...|                NULL|                NULL|                NULL|                NULL|                NULL|                 NULL|                NULL|                NULL|                NULL|                NULL|                NULL|                NULL|                NULL|                NULL|              NULL|                NULL|                NULL|                NULL|                NULL|              NULL|                NULL|                     NULL|                NULL|                NULL|                  NULL|                NULL|                  NULL|                        NULL|                NULL|                NULL|                NULL|                NULL|                NULL|                NULL|                NULL|                NULL|                NULL|                NULL|                NULL|                NULL|                NULL|                  NULL|                  NULL|                  NULL|                  NULL|                  NULL|                  NULL|                NULL|                NULL|                NULL|                NULL|                NULL|                NULL|                 NULL|                NULL|                 NULL|                  NULL|                NULL|                NULL|                NULL|                  NULL|                     NULL|                 NULL|                       NULL|                  NULL|                NULL|             NULL|                NULL|\n",
      "|I also enjoy work...|  building furniture| and fixing my bi...|                NULL|                NULL|                NULL|                NULL|                 NULL|                NULL|                NULL|                NULL|                NULL|                NULL|                NULL|                NULL|                NULL|              NULL|                NULL|                NULL|                NULL|                NULL|              NULL|                NULL|                     NULL|                NULL|                NULL|                  NULL|                NULL|                  NULL|                        NULL|                NULL|                NULL|                NULL|                NULL|                NULL|                NULL|                NULL|                NULL|                NULL|                NULL|                NULL|                NULL|                NULL|                  NULL|                  NULL|                  NULL|                  NULL|                  NULL|                  NULL|                NULL|                NULL|                NULL|                NULL|                NULL|                NULL|                 NULL|                NULL|                 NULL|                  NULL|                NULL|                NULL|                NULL|                  NULL|                     NULL|                 NULL|                       NULL|                  NULL|                NULL|             NULL|                NULL|\n",
      "|\",within an hour,...|           'phone']\"|                   t|                   t|Charlestown, Mass...|         Charlestown|                NULL|             42.37424|           -71.06081|  Entire rental unit|     Entire home/apt|                   3|                NULL|              1 bath|                   1|                   1|      \"[\"\"Coffee\"\"| \"\"Free dryer \\u2...|            \"\"Iron\"\"|           \"\"Bidet\"\"| \"\"City skyline v...| \"\"Resort access\"\"| \"\"Hot water kett...|              \"\"Heating\"\"| \"\"Dedicated work...|   \"\"All body soap\"\"|       \"\"Garden view\"\"| \"\"Trash compactor\"\"|           \"\"Shampoo\"\"|             \"\"Smoke alarm\"\"|  \"\"Window AC unit\"\"| \"\"All conditioner\"\"|            \"\"Wifi\"\"|    \"\"Dining table\"\"| \"\"Exercise equip...| \"\"Carbon monoxid...|       \"\"Gas stove\"\"| \"\"Beach essentia...|         \"\"Lockbox\"\"| \"\"Free washer \\u...|    \"\"Refrigerator\"\"|       \"\"Park view\"\"| \"\"Outdoor furnit...|         \"\"Microwave\"\"|           \"\"Kitchen\"\"|        \"\"Dishwasher\"\"|           \"\"Bathtub\"\"|        \"\"Shower gel\"\"|   \"\"Cleaning produ...|         \"\"Freezer\"\"| \"\"Shared patio o...|       \"\"BBQ grill\"\"| \"\"Stainless stee...| \"\"Outdoor dining...|      \"\"Hair dryer\"\"|        \"\"Hot water\"\"| \"\"Dishes and sil...|   \"\"Courtyard view\"\"|        \"\"10\\\"\" HDTV\"\"|            \"\"Safe\"\"|    \"\"Wine glasses\"\"| \"\"Laundromat nea...|           \"\"Toaster\"\"|         \"\"Baking sheet\"\"|   \"\"Outdoor shower\"\"|        \"\"Barbecue utens...|   \"\"Private entran...|  \"\"Cooking basics\"\"|      \"\"Hangers\"\"| \"\"Private backya...|\n",
      "|               47521|https://www.airbn...|         2.02309E+13|           9/16/2023|         city scrape|Home in Dorcheste...|Location: Beautif...| Dorchester is a h...|https://a0.muscac...|              119019|https://www.airbn...|             Hermina|            5/5/2010|          Boston, MA|Back to Air B&B! ...|                NULL|              NULL|                NULL|                NULL|                NULL|                NULL|              NULL|                NULL|                     NULL|                NULL|                NULL|                  NULL|                NULL|                  NULL|                        NULL|                NULL|                NULL|                NULL|                NULL|                NULL|                NULL|                NULL|                NULL|                NULL|                NULL|                NULL|                NULL|                NULL|                  NULL|                  NULL|                  NULL|                  NULL|                  NULL|                  NULL|                NULL|                NULL|                NULL|                NULL|                NULL|                NULL|                 NULL|                NULL|                 NULL|                  NULL|                NULL|                NULL|                NULL|                  NULL|                     NULL|                 NULL|                       NULL|                  NULL|                NULL|             NULL|                NULL|\n",
      "+--------------------+--------------------+--------------------+--------------------+--------------------+--------------------+--------------------+---------------------+--------------------+--------------------+--------------------+--------------------+--------------------+--------------------+--------------------+--------------------+------------------+--------------------+--------------------+--------------------+--------------------+------------------+--------------------+-------------------------+--------------------+--------------------+----------------------+--------------------+----------------------+----------------------------+--------------------+--------------------+--------------------+--------------------+--------------------+--------------------+--------------------+--------------------+--------------------+--------------------+--------------------+--------------------+--------------------+----------------------+----------------------+----------------------+----------------------+----------------------+----------------------+--------------------+--------------------+--------------------+--------------------+--------------------+--------------------+---------------------+--------------------+---------------------+----------------------+--------------------+--------------------+--------------------+----------------------+-------------------------+---------------------+---------------------------+----------------------+--------------------+-----------------+--------------------+\n",
      "only showing top 20 rows\n",
      "\n"
     ]
    }
   ],
   "source": [
    "listings.show()"
   ]
  },
  {
   "cell_type": "code",
   "execution_count": null,
   "metadata": {
    "application/vnd.databricks.v1+cell": {
     "cellMetadata": {
      "byteLimit": 2048000,
      "rowLimit": 10000
     },
     "inputWidgets": {},
     "nuid": "aa40fbb2-39fa-4798-a650-08d7dac3d272",
     "showTitle": false,
     "title": ""
    }
   },
   "outputs": [
    {
     "name": "stdout",
     "output_type": "stream",
     "text": [
      "+----------+--------+----------+-----------+-------------+--------------------------------+\n",
      "|listing_id|      id|      date|reviewer_id|reviewer_name|                        comments|\n",
      "+----------+--------+----------+-----------+-------------+--------------------------------+\n",
      "|      3781|4.14E+17| 7/25/2021|  387513970|          Ana|            I stayed at this ...|\n",
      "|      3781|5.51E+17| 1/30/2022|  387833418|        Alexa|            Great location fo...|\n",
      "|      3781|6.38E+17| 5/29/2022|   51090123|     Carolina|            Great place to sp...|\n",
      "|      3781|7.09E+17|  9/5/2022|   69554381|       Mhoire|            Great place.  Gre...|\n",
      "|      5506|4.10E+17| 7/19/2021|  138760242|        David|            Nice place. Close...|\n",
      "|      5506|4.64E+17| 10/1/2021|  150474842|       Robert|            Cozy little room ...|\n",
      "|      5506|4.81E+17|10/25/2021|   59941493|     Cristina|            Wonderful little ...|\n",
      "|      5506|6.58E+17| 6/26/2022|  364272935|        Seong|            Very nice place, ...|\n",
      "|      5506|6.60E+17| 6/29/2022|   82737235|       Pamela|            Lovely place and ...|\n",
      "|      5506|6.69E+17| 7/11/2022|  436213696|         Lisa|                 Great location!|\n",
      "|      5506|7.23E+17| 9/24/2022|  184880341|       Yi-Pei|            Terry's place was...|\n",
      "|      5506|7.27E+17| 9/29/2022|    2811310|      Masashi|                     Great stay!|\n",
      "|      5506|7.37E+17|10/13/2022|  271340217|        Fabio|            Great staying at ...|\n",
      "|      5506|7.61E+17|11/15/2022|  412803770|        Debra|            We thoroughly enj...|\n",
      "|      5506|7.75E+17| 12/5/2022|  168062739|      Shreena|            Terry is an excel...|\n",
      "|      5506|9.65E+17| 8/24/2023|  244427805|        Sarah|            Enjoyed the small...|\n",
      "|      6695|4.72E+17|10/12/2021|  403976209|         Emma|            This Airbnb is tr...|\n",
      "|      6695|6.92E+17| 8/12/2022|  269482465|    Free Bird|温馨的房子，沙发床也足够大，舒适|\n",
      "|      6695|6.97E+17| 8/19/2022|  339454845|        Derek|             Very accommodating!|\n",
      "|      6695|7.13E+17| 9/10/2022|   68710340|      Melissa|            Beautiful home in...|\n",
      "+----------+--------+----------+-----------+-------------+--------------------------------+\n",
      "only showing top 20 rows\n",
      "\n"
     ]
    }
   ],
   "source": [
    "reviews.show()"
   ]
  },
  {
   "cell_type": "code",
   "execution_count": null,
   "metadata": {
    "application/vnd.databricks.v1+cell": {
     "cellMetadata": {
      "byteLimit": 2048000,
      "rowLimit": 10000
     },
     "inputWidgets": {},
     "nuid": "5c7bdac9-24e9-48c3-a084-eab129ca019a",
     "showTitle": false,
     "title": ""
    }
   },
   "outputs": [
    {
     "name": "stdout",
     "output_type": "stream",
     "text": [
      "root\n",
      " |-- listing_id: double (nullable = true)\n",
      " |-- id: double (nullable = true)\n",
      " |-- date: date (nullable = true)\n",
      " |-- reviewer_id: integer (nullable = true)\n",
      " |-- reviewer_name: string (nullable = true)\n",
      " |-- comments: string (nullable = true)\n",
      "\n"
     ]
    }
   ],
   "source": [
    "reviews.printSchema()"
   ]
  },
  {
   "cell_type": "code",
   "execution_count": null,
   "metadata": {
    "application/vnd.databricks.v1+cell": {
     "cellMetadata": {
      "byteLimit": 2048000,
      "rowLimit": 10000
     },
     "inputWidgets": {},
     "nuid": "6000c947-bb08-42b2-b2d2-bebe0df805b4",
     "showTitle": false,
     "title": ""
    }
   },
   "outputs": [
    {
     "name": "stdout",
     "output_type": "stream",
     "text": [
      "root\n",
      " |-- id: string (nullable = true)\n",
      " |-- listing_url: string (nullable = true)\n",
      " |-- scrape_id: string (nullable = true)\n",
      " |-- last_scraped: string (nullable = true)\n",
      " |-- source: string (nullable = true)\n",
      " |-- name: string (nullable = true)\n",
      " |-- description: string (nullable = true)\n",
      " |-- neighborhood_overview: string (nullable = true)\n",
      " |-- picture_url: string (nullable = true)\n",
      " |-- host_id: string (nullable = true)\n",
      " |-- host_url: string (nullable = true)\n",
      " |-- host_name: string (nullable = true)\n",
      " |-- host_since: string (nullable = true)\n",
      " |-- host_location: string (nullable = true)\n",
      " |-- host_about: string (nullable = true)\n",
      " |-- host_response_time: string (nullable = true)\n",
      " |-- host_response_rate: string (nullable = true)\n",
      " |-- host_acceptance_rate: string (nullable = true)\n",
      " |-- host_is_superhost: string (nullable = true)\n",
      " |-- host_thumbnail_url: string (nullable = true)\n",
      " |-- host_picture_url: string (nullable = true)\n",
      " |-- host_neighbourhood: string (nullable = true)\n",
      " |-- host_listings_count: string (nullable = true)\n",
      " |-- host_total_listings_count: string (nullable = true)\n",
      " |-- host_verifications: string (nullable = true)\n",
      " |-- host_has_profile_pic: string (nullable = true)\n",
      " |-- host_identity_verified: string (nullable = true)\n",
      " |-- neighbourhood: string (nullable = true)\n",
      " |-- neighbourhood_cleansed: string (nullable = true)\n",
      " |-- neighbourhood_group_cleansed: string (nullable = true)\n",
      " |-- latitude: string (nullable = true)\n",
      " |-- longitude: string (nullable = true)\n",
      " |-- property_type: string (nullable = true)\n",
      " |-- room_type: string (nullable = true)\n",
      " |-- accommodates: string (nullable = true)\n",
      " |-- bathrooms: string (nullable = true)\n",
      " |-- bathrooms_text: string (nullable = true)\n",
      " |-- bedrooms: string (nullable = true)\n",
      " |-- beds: string (nullable = true)\n",
      " |-- amenities: string (nullable = true)\n",
      " |-- price: string (nullable = true)\n",
      " |-- minimum_nights: string (nullable = true)\n",
      " |-- maximum_nights: string (nullable = true)\n",
      " |-- minimum_minimum_nights: string (nullable = true)\n",
      " |-- maximum_minimum_nights: string (nullable = true)\n",
      " |-- minimum_maximum_nights: string (nullable = true)\n",
      " |-- maximum_maximum_nights: string (nullable = true)\n",
      " |-- minimum_nights_avg_ntm: string (nullable = true)\n",
      " |-- maximum_nights_avg_ntm: string (nullable = true)\n",
      " |-- calendar_updated: string (nullable = true)\n",
      " |-- has_availability: string (nullable = true)\n",
      " |-- availability_30: string (nullable = true)\n",
      " |-- availability_60: string (nullable = true)\n",
      " |-- availability_90: string (nullable = true)\n",
      " |-- availability_365: string (nullable = true)\n",
      " |-- calendar_last_scraped: string (nullable = true)\n",
      " |-- number_of_reviews: string (nullable = true)\n",
      " |-- number_of_reviews_ltm: string (nullable = true)\n",
      " |-- number_of_reviews_l30d: string (nullable = true)\n",
      " |-- first_review: string (nullable = true)\n",
      " |-- last_review: string (nullable = true)\n",
      " |-- review_scores_rating: string (nullable = true)\n",
      " |-- review_scores_accuracy: string (nullable = true)\n",
      " |-- review_scores_cleanliness: string (nullable = true)\n",
      " |-- review_scores_checkin: string (nullable = true)\n",
      " |-- review_scores_communication: string (nullable = true)\n",
      " |-- review_scores_location: string (nullable = true)\n",
      " |-- review_scores_value: string (nullable = true)\n",
      " |-- license: string (nullable = true)\n",
      " |-- reviews_per_month: string (nullable = true)\n",
      "\n"
     ]
    }
   ],
   "source": [
    "listings.printSchema()"
   ]
  },
  {
   "cell_type": "code",
   "execution_count": null,
   "metadata": {
    "application/vnd.databricks.v1+cell": {
     "cellMetadata": {
      "byteLimit": 2048000,
      "rowLimit": 10000
     },
     "inputWidgets": {},
     "nuid": "029cf8c0-89a9-4535-b06d-99fedd70b698",
     "showTitle": false,
     "title": ""
    }
   },
   "outputs": [],
   "source": [
    "columns_to_drop = [\"scrape_id\", \"last_scraped\", \"source\"]\n",
    "\n",
    "listings = listings.drop(*columns_to_drop)\n"
   ]
  },
  {
   "cell_type": "code",
   "execution_count": null,
   "metadata": {
    "application/vnd.databricks.v1+cell": {
     "cellMetadata": {
      "byteLimit": 2048000,
      "rowLimit": 10000
     },
     "inputWidgets": {},
     "nuid": "21a0099b-7891-4945-a5c1-27127bc668d0",
     "showTitle": false,
     "title": ""
    }
   },
   "outputs": [],
   "source": [
    "reviews = reviews.withColumnRenamed(\"id\", \"review_id\")\n"
   ]
  },
  {
   "cell_type": "code",
   "execution_count": null,
   "metadata": {
    "application/vnd.databricks.v1+cell": {
     "cellMetadata": {
      "byteLimit": 2048000,
      "rowLimit": 10000
     },
     "inputWidgets": {},
     "nuid": "124859b4-13ec-4cec-813f-2ad5e3fca64f",
     "showTitle": false,
     "title": ""
    }
   },
   "outputs": [
    {
     "name": "stdout",
     "output_type": "stream",
     "text": [
      "+----------+---------+-------------------+-----------+-------------+--------------------------------+--------------------+\n",
      "|listing_id|review_id|               date|reviewer_id|reviewer_name|                        comments|latest_review_number|\n",
      "+----------+---------+-------------------+-----------+-------------+--------------------------------+--------------------+\n",
      "|    6695.0|  9.68E17|2023-08-28 00:00:00|   20655826|        Byron|            Terry and Mindy w...|                   1|\n",
      "|    6695.0|  8.56E17|2023-03-26 00:00:00|  186132767|        Carly|            We had a great ti...|                   2|\n",
      "|    6695.0|  7.63E17|2022-11-18 00:00:00|   93697560|      Joaquin|            Great, clean, and...|                   3|\n",
      "|    6695.0|  7.54E17|2022-11-06 00:00:00|  451130006|       Konomi|            Terry is the swee...|                   4|\n",
      "|    6695.0|  7.51E17|2022-11-01 00:00:00|  178154261|      Michael|            Place was great! ...|                   5|\n",
      "|    6695.0|  7.43E17|2022-10-22 00:00:00|  249975585|        Erika|            We loved the Fort...|                   6|\n",
      "|    6695.0|  7.13E17|2022-09-10 00:00:00|   68710340|      Melissa|            Beautiful home in...|                   7|\n",
      "|    6695.0|  6.97E17|2022-08-19 00:00:00|  339454845|        Derek|             Very accommodating!|                   8|\n",
      "|    6695.0|  6.92E17|2022-08-12 00:00:00|  269482465|    Free Bird|温馨的房子，沙发床也足够大，舒适|                   9|\n",
      "|    6695.0|  4.72E17|2021-10-12 00:00:00|  403976209|         Emma|            This Airbnb is tr...|                  10|\n",
      "|   29765.0|  7.43E17|2022-10-21 00:00:00|    5152671|        David|            \"Elizabeth's plac...|                   1|\n",
      "|   29765.0|  7.38E17|2022-10-14 00:00:00|   50208035|   Carly Anne|            This location is ...|                   2|\n",
      "|   29765.0|  7.24E17|2022-09-25 00:00:00|  130905104|      Myranda|            Very charming Air...|                   3|\n",
      "|   29765.0|  7.17E17|2022-09-15 00:00:00|   44834234|         Kati|            The Moroccan suit...|                   4|\n",
      "|   29765.0|  6.93E17|2022-08-14 00:00:00|   64106836|       Andrew|            A key reason why ...|                   5|\n",
      "|   29765.0|   4.8E17|2021-10-24 00:00:00|  128899345|        Ellen|            This is a beautif...|                   6|\n",
      "|   29765.0|  4.61E17|2021-09-27 00:00:00|   19583259|       Leslie|            A romantic and ex...|                   7|\n",
      "|   29765.0|  4.25E17|2021-08-09 00:00:00|  181637900|          Leo|            The Moroccan Luxu...|                   8|\n",
      "|   29765.0|  4.06E17|2021-07-13 00:00:00|   19583259|       Leslie|            Not only is Eliza...|                   9|\n",
      "|  197727.0|  9.33E17|2023-07-10 00:00:00|   34611393|       Sandra|            Stayed at Jill's ...|                   1|\n",
      "+----------+---------+-------------------+-----------+-------------+--------------------------------+--------------------+\n",
      "only showing top 20 rows\n",
      "\n"
     ]
    }
   ],
   "source": [
    "# Get reviews data sorted with latest reviews shwon on top grouped by listing id\n",
    "reviews = reviews.withColumn(\"date\", col(\"date\").cast(\"timestamp\"))\n",
    "\n",
    "window_spec = Window.partitionBy(\"listing_id\").orderBy(col(\"date\").desc())\n",
    "\n",
    "sorted_reviews = reviews.withColumn(\"latest_review_number\", row_number().over(window_spec))\n",
    "\n",
    "sorted_reviews.show()"
   ]
  },
  {
   "cell_type": "code",
   "execution_count": null,
   "metadata": {
    "application/vnd.databricks.v1+cell": {
     "cellMetadata": {
      "byteLimit": 2048000,
      "rowLimit": 10000
     },
     "inputWidgets": {},
     "nuid": "4fa61a1b-9844-42ed-835d-484e6c7fcfbd",
     "showTitle": false,
     "title": ""
    }
   },
   "outputs": [
    {
     "name": "stdout",
     "output_type": "stream",
     "text": [
      "+----------+---------+-------------------+-----------+-------------+--------------------+--------------------+\n",
      "|listing_id|review_id|               date|reviewer_id|reviewer_name|            comments|latest_review_number|\n",
      "+----------+---------+-------------------+-----------+-------------+--------------------+--------------------+\n",
      "|    3781.0|  7.09E17|2022-09-05 00:00:00|   69554381|       Mhoire|Great place.  Gre...|                   1|\n",
      "|    5506.0|  9.65E17|2023-08-24 00:00:00|  244427805|        Sarah|Enjoyed the small...|                   1|\n",
      "|    6695.0|  9.68E17|2023-08-28 00:00:00|   20655826|        Byron|Terry and Mindy w...|                   1|\n",
      "|    8789.0|   9.7E17|2023-08-31 00:00:00|   61665312|      Nicolas|Great location an...|                   1|\n",
      "|   18711.0|  9.62E17|2023-08-19 00:00:00|  436019467| Alexa Jeanne|My recent stay at...|                   1|\n",
      "|   29765.0|  7.43E17|2022-10-21 00:00:00|    5152671|        David|\"Elizabeth's plac...|                   1|\n",
      "|   40601.0|  9.57E17|2023-08-13 00:00:00|  411874762|       Hannah|I had a great sta...|                   1|\n",
      "|   45987.0|  9.54E17|2023-08-08 00:00:00|  194613479|      Justina|Atef was friendly...|                   1|\n",
      "|   47521.0|  7.18E17|2022-09-17 00:00:00|  200642964|      Carmela|Hermina responded...|                   1|\n",
      "|   60029.0|  8.86E17|2023-05-07 00:00:00|   40822846|    Francesco|Michelle was by f...|                   1|\n",
      "|   67774.0|  7.89E17|2022-12-24 00:00:00|  440119817|         מעין|Great location at...|                   1|\n",
      "|   77681.0|  8.91E17|2023-05-14 00:00:00|  124871762|       Mrinal|Christiane is a g...|                   1|\n",
      "|   77691.0|  6.77E17|2022-07-22 00:00:00|  359306709|        Alisa|Hermina was very ...|                   1|\n",
      "|  163941.0|  9.79E17|2023-09-12 00:00:00|  371149781|       Martin|Terry’s place was...|                   1|\n",
      "|  190170.0|  6.39E17|2022-05-31 00:00:00|   60647031|       Arturo|El lugar estaba m...|                   1|\n",
      "|  197727.0|  9.33E17|2023-07-10 00:00:00|   34611393|       Sandra|Stayed at Jill's ...|                   1|\n",
      "|  197972.0|  9.74E17|2023-09-05 00:00:00|   56042923|       Vishan|Neat place for tw...|                   1|\n",
      "|  210097.0|   9.7E17|2023-08-30 00:00:00|   55602728|      Minjung|There was a probl...|                   1|\n",
      "|  220676.0|  9.78E17|2023-09-11 00:00:00|  529315747|     Demitria|Great location an...|                   1|\n",
      "|  257588.0|  9.67E17|2023-08-27 00:00:00|  505588165|       Adrian|Meri and Jeffs pl...|                   1|\n",
      "+----------+---------+-------------------+-----------+-------------+--------------------+--------------------+\n",
      "only showing top 20 rows\n",
      "\n"
     ]
    }
   ],
   "source": [
    "# add recent review to listings table\n",
    "\n",
    "latest_reviews = sorted_reviews.filter(col(\"latest_review_number\") == 1)\n",
    "\n",
    "latest_reviews.show()\n"
   ]
  },
  {
   "cell_type": "code",
   "execution_count": null,
   "metadata": {
    "application/vnd.databricks.v1+cell": {
     "cellMetadata": {
      "byteLimit": 2048000,
      "rowLimit": 10000
     },
     "inputWidgets": {},
     "nuid": "85290733-fbde-41d2-b34d-89f02d2cd395",
     "showTitle": false,
     "title": ""
    }
   },
   "outputs": [
    {
     "name": "stdout",
     "output_type": "stream",
     "text": [
      "+--------------------+--------------------+--------------------+--------------------+---------------------+--------------------+--------------------+--------------------+--------------------+--------------------+--------------------+--------------------+--------------------+------------------+--------------------+--------------------+--------------------+--------------------+------------------+--------------------+-------------------------+--------------------+--------------------+----------------------+--------------------+----------------------+----------------------------+--------------------+--------------------+--------------------+--------------------+--------------------+--------------------+--------------------+--------------------+--------------------+--------------------+--------------------+--------------------+--------------------+----------------------+----------------------+----------------------+----------------------+----------------------+----------------------+--------------------+--------------------+--------------------+--------------------+--------------------+--------------------+---------------------+--------------------+---------------------+----------------------+--------------------+--------------------+--------------------+----------------------+-------------------------+---------------------+---------------------------+----------------------+--------------------+-----------------+--------------------+\n",
      "|                  id|         listing_url|                name|         description|neighborhood_overview|         picture_url|             host_id|            host_url|           host_name|          host_since|       host_location|          host_about|  host_response_time|host_response_rate|host_acceptance_rate|   host_is_superhost|  host_thumbnail_url|    host_picture_url|host_neighbourhood| host_listings_count|host_total_listings_count|  host_verifications|host_has_profile_pic|host_identity_verified|       neighbourhood|neighbourhood_cleansed|neighbourhood_group_cleansed|            latitude|           longitude|       property_type|           room_type|        accommodates|           bathrooms|      bathrooms_text|            bedrooms|                beds|           amenities|               price|      minimum_nights|      maximum_nights|minimum_minimum_nights|maximum_minimum_nights|minimum_maximum_nights|maximum_maximum_nights|minimum_nights_avg_ntm|maximum_nights_avg_ntm|    calendar_updated|    has_availability|     availability_30|     availability_60|     availability_90|    availability_365|calendar_last_scraped|   number_of_reviews|number_of_reviews_ltm|number_of_reviews_l30d|        first_review|         last_review|review_scores_rating|review_scores_accuracy|review_scores_cleanliness|review_scores_checkin|review_scores_communication|review_scores_location| review_scores_value|          license|   reviews_per_month|\n",
      "+--------------------+--------------------+--------------------+--------------------+---------------------+--------------------+--------------------+--------------------+--------------------+--------------------+--------------------+--------------------+--------------------+------------------+--------------------+--------------------+--------------------+--------------------+------------------+--------------------+-------------------------+--------------------+--------------------+----------------------+--------------------+----------------------+----------------------------+--------------------+--------------------+--------------------+--------------------+--------------------+--------------------+--------------------+--------------------+--------------------+--------------------+--------------------+--------------------+--------------------+----------------------+----------------------+----------------------+----------------------+----------------------+----------------------+--------------------+--------------------+--------------------+--------------------+--------------------+--------------------+---------------------+--------------------+---------------------+----------------------+--------------------+--------------------+--------------------+----------------------+-------------------------+---------------------+---------------------------+----------------------+--------------------+-----------------+--------------------+\n",
      "|                3781|https://www.airbn...|Rental unit in Bo...|Fully separate ap...| \"Mostly quiet ( n...|https://a0.muscac...|                4804|https://www.airbn...|               Frank|           12/3/2008|Massachusetts, Un...|My wife and I and...|        within a day|              100%|                 21%|                   t|https://a0.muscac...|https://a0.muscac...|       East Boston|                   4|                        5|  ['email', 'phone']|                   t|                     f|Boston, Massachus...|           East Boston|                        NULL|            42.36413|           -71.02991|  Entire rental unit|     Entire home/apt|                   2|                NULL|              1 bath|                   1|                   1|          \"[\"\"Iron\"\"|            \"\"Oven\"\"|         \"\"Heating\"\"| \"\"Central air co...|   \"\"Free street pa...|       \"\"Smoke alarm\"\"|           \"\"Shampoo\"\"|            \"\"Washer\"\"|              \"\"Wifi\"\"|   \"\"Patio or balco...| \"\"Carbon monoxid...|    \"\"Refrigerator\"\"|       \"\"Microwave\"\"|         \"\"Kitchen\"\"|      \"\"Dishwasher\"\"|       \"\"Hot water\"\"|       \"\"Hair dryer\"\"| \"\"Dishes and sil...|  \"\"TV with standa...|    \"\"Cooking basics\"\"|         \"\"Hangers\"\"|    \"\"Coffee maker\"\"| \"\"Free parking o...|        \"\"Bed linens\"\"|      \"\"Extra pillows ...|            \"\"Stove\"\"|                  \"\"Dryer\"\"|      \"\"Essentials\"\"]\"|            $125.00 |               29|                1125|\n",
      "|                5506|https://www.airbn...|Guest suite in Bo...|Private guest roo...| Peaceful, Archite...|https://a0.muscac...|                8229|https://www.airbn...|               Terry|           2/19/2009|          Boston, MA|Relaxed,  Easy go...|      within an hour|              100%|                100%|                   t|https://a0.muscac...|https://a0.muscac...|           Roxbury|                  11|                       14|  ['email', 'phone']|                   t|                     t|Boston, Massachus...|               Roxbury|                        NULL|            42.32844|           -71.09581|  Entire guest suite|     Entire home/apt|                   2|                NULL|              1 bath|                   1|                   1|          \"[\"\"Iron\"\"|         \"\"Heating\"\"| \"\"Air conditioni...| \"\"Free street pa...|       \"\"Smoke alarm\"\"|           \"\"Shampoo\"\"|            \"\"Washer\"\"|              \"\"Wifi\"\"|     \"\"First aid kit\"\"|   \"\"Carbon monoxid...|          \"\"Keypad\"\"|    \"\"Refrigerator\"\"|       \"\"Microwave\"\"|         \"\"Bathtub\"\"| \"\"Luggage dropof...|       \"\"Hot water\"\"|       \"\"Hair dryer\"\"| \"\"Dishes and sil...|  \"\"TV with standa...|   \"\"Long term stay...| \"\"Private entran...|         \"\"Hangers\"\"|   \"\"Self check-in\"\"|      \"\"Coffee maker\"\"|           \"\"Bed linens\"\"|  \"\"Extra pillows ...|        \"\"Fire extinguis...|             \"\"Dryer\"\"|    \"\"Essentials\"\"]\"|         $149.00 |                   3|\n",
      "|                6695|https://www.airbn...|Condo in Boston ·...|Comfortable,  Ful...| Peaceful, Archite...|https://a0.muscac...|                8229|https://www.airbn...|               Terry|           2/19/2009|          Boston, MA|Relaxed,  Easy go...|      within an hour|              100%|                100%|                   t|https://a0.muscac...|https://a0.muscac...|           Roxbury|                  11|                       14|  ['email', 'phone']|                   t|                     t|Boston, Massachus...|               Roxbury|                        NULL|            42.32802|           -71.09387|        Entire condo|     Entire home/apt|                   4|                NULL|              1 bath|                NULL|                   2|          \"[\"\"Iron\"\"|            \"\"Oven\"\"|         \"\"Heating\"\"| \"\"Air conditioni...|   \"\"Free street pa...|       \"\"Smoke alarm\"\"|           \"\"Shampoo\"\"|            \"\"Washer\"\"|              \"\"Wifi\"\"|   \"\"Carbon monoxid...|          \"\"Keypad\"\"|    \"\"Refrigerator\"\"|       \"\"Microwave\"\"|         \"\"Kitchen\"\"|      \"\"Dishwasher\"\"|           \"\"Stove\"\"|  \"\"Luggage dropof...|       \"\"Hot water\"\"|       \"\"Hair dryer\"\"|   \"\"Dishes and sil...| \"\"TV with standa...| \"\"Long term stay...|  \"\"Cooking basics\"\"|           \"\"Hangers\"\"|        \"\"Self check-in\"\"|     \"\"Coffee maker\"\"|        \"\"Fire extinguis...|             \"\"Dryer\"\"|    \"\"Essentials\"\"]\"|         $179.00 |                   3|\n",
      "|                8789|https://www.airbn...|Rental unit in Bo...|This unit is for ...| Beacon Hill is a ...|https://a0.muscac...|               26988|https://www.airbn...|                Anne|           7/22/2009|          Boston, MA|I manage a number...|                NULL|              NULL|                NULL|                NULL|                NULL|                NULL|              NULL|                NULL|                     NULL|                NULL|                NULL|                  NULL|                NULL|                  NULL|                        NULL|                NULL|                NULL|                NULL|                NULL|                NULL|                NULL|                NULL|                NULL|                NULL|                NULL|                NULL|                NULL|                NULL|                  NULL|                  NULL|                  NULL|                  NULL|                  NULL|                  NULL|                NULL|                NULL|                NULL|                NULL|                NULL|                NULL|                 NULL|                NULL|                 NULL|                  NULL|                NULL|                NULL|                NULL|                  NULL|                     NULL|                 NULL|                       NULL|                  NULL|                NULL|             NULL|                NULL|\n",
      "|\",within a day,90...|           'phone']\"|         Beacon Hill|                NULL|             42.35867|           -71.06307|  Entire rental unit|     Entire home/apt|                   2|                NULL|              1 bath|                   1|                   1|        \"[\"\"Iron\"\"|         \"\"Heating\"\"| \"\"Air conditioni...|     \"\"Smoke alarm\"\"|          \"\"Washer\"\"|          \"\"Wifi\"\"| \"\"Fire extinguis...|      \"\"Patio or balco...| \"\"Carbon monoxid...| \"\"Paid parking o...|      \"\"Refrigerator\"\"|       \"\"Microwave\"\"|           \"\"Kitchen\"\"|                \"\"Elevator\"\"|       \"\"Hot water\"\"|      \"\"Hair dryer\"\"| \"\"Dishes and sil...| \"\"TV with standa...| \"\"Long term stay...|  \"\"Cooking basics\"\"|         \"\"Hangers\"\"|    \"\"Coffee maker\"\"|           \"\"Stove\"\"|           \"\"Dryer\"\"|    \"\"Essentials\"\"]\"|             $90.00 |                  91|                   365|                    91|                    91|                   365|                   365|                    91|                 365|                NULL|                   t|                   0|                   0|                   0|                  159|           9/16/2023|                   27|                     2|                   1|           8/12/2014|           8/31/2023|                  4.67|                     4.67|                 4.52|                       4.93|                  4.96|                4.96|             4.56|                NULL|\n",
      "|               10813|https://www.airbn...|Rental unit in Bo...|\"Stunning Back Ba...|  cafes and shops....|                 A/C|            Cable TV|       Private phone| High Speed Internet|         Non-smoking|        No breakfast|    Queen Murphy bed| Sleeps 2 and pos...|         full gal\"|Wander around thi...|https://a0.muscac...|               38997|https://www.airbn...|          Michelle|           9/16/2009|                     NULL|                NULL|  within a few hours|                   98%|                 39%|                     f|        https://a0.muscac...|https://a0.muscac...|            Back Bay|                  20|                  27|  ['email', 'phone']|                   t|                   t|Boston, Massachus...|            Back Bay|                NULL|            42.35061|           -71.08787|  Entire rental unit|       Entire home/apt|                     2|                  NULL|                1 bath|                  NULL|                     1|          \"[\"\"Iron\"\"|         \"\"Heating\"\"|     \"\"Smoke alarm\"\"|         \"\"Shampoo\"\"|  \"\"Window AC unit\"\"|            \"\"Wifi\"\"|     \"\"Dining table\"\"| \"\"Clothing stora...|  \"\"Carbon monoxid...|      \"\"Refrigerator\"\"|       \"\"Microwave\"\"|         \"\"Kitchen\"\"|      \"\"Dishwasher\"\"|           \"\"Bathtub\"\"|                \"\"Stove\"\"|          \"\"Freezer\"\"|              \"\"Hot water\"\"|        \"\"Hair dryer\"\"| \"\"Dishes and sil...| \"\"Wine glasses\"\"| \"\"TV with standa...|\n",
      "|               10986|https://www.airbn...|Condo in Boston ·...|\"Chic furnished s...|  including Northe...| Berklee Univ or ...| stainless steel ...|    Queen Murphy Bed|  includes utilities|                 A/C|               WI-FI|            Cable TV|              linens|            towels| cooking pots/pan...| breakfast bar wo...|                NULL|https://a0.muscac...|             38997|https://www.airbn...|                 Michelle|           9/16/2009|                NULL|                  NULL|  within a few hours|                   98%|                         39%|                   f|https://a0.muscac...|https://a0.muscac...|            Back Bay|                  20|                  27|  ['email', 'phone']|                   t|                   t|                NULL|           North End|                NULL|            42.36377|             -71.05206|          Entire condo|       Entire home/apt|                     2|                  NULL|                1 bath|                NULL|                   1|\"[\"\"Free dryer \\u...|            \"\"Iron\"\"| \"\"Hot water kett...|         \"\"Heating\"\"|      \"\"Smoke alarm\"\"|  \"\"Window AC unit\"\"|             \"\"Wifi\"\"|   \"\"Carbon monoxid...|         \"\"Lockbox\"\"| \"\"Free washer \\u...|    \"\"Refrigerator\"\"|         \"\"Microwave\"\"|              \"\"Kitchen\"\"|       \"\"Dishwasher\"\"|                \"\"Bathtub\"\"|           \"\"Freezer\"\"|    \"\"GE gas stove\"\"|    \"\"Hot water\"\"|      \"\"Hair dryer\"\"|\n",
      "|               18711|https://www.airbn...|Rental unit in Bo...|NEW for May 2022!...| Once its own city...|https://a0.muscac...|               71783|https://www.airbn...|               Lance|           1/19/2010|          Boston, MA|Lance R. Swank, P...|                NULL|              NULL|                NULL|                NULL|                NULL|                NULL|              NULL|                NULL|                     NULL|                NULL|                NULL|                  NULL|                NULL|                  NULL|                        NULL|                NULL|                NULL|                NULL|                NULL|                NULL|                NULL|                NULL|                NULL|                NULL|                NULL|                NULL|                NULL|                NULL|                  NULL|                  NULL|                  NULL|                  NULL|                  NULL|                  NULL|                NULL|                NULL|                NULL|                NULL|                NULL|                NULL|                 NULL|                NULL|                 NULL|                  NULL|                NULL|                NULL|                NULL|                  NULL|                     NULL|                 NULL|                       NULL|                  NULL|                NULL|             NULL|                NULL|\n",
      "|His units offer c...| whether a newly ...|                NULL|                NULL|                 NULL|                NULL|                NULL|                NULL|                NULL|                NULL|                NULL|                NULL|                NULL|              NULL|                NULL|                NULL|                NULL|                NULL|              NULL|                NULL|                     NULL|                NULL|                NULL|                  NULL|                NULL|                  NULL|                        NULL|                NULL|                NULL|                NULL|                NULL|                NULL|                NULL|                NULL|                NULL|                NULL|                NULL|                NULL|                NULL|                NULL|                  NULL|                  NULL|                  NULL|                  NULL|                  NULL|                  NULL|                NULL|                NULL|                NULL|                NULL|                NULL|                NULL|                 NULL|                NULL|                 NULL|                  NULL|                NULL|                NULL|                NULL|                  NULL|                     NULL|                 NULL|                       NULL|                  NULL|                NULL|             NULL|                NULL|\n",
      "|Lance is the Pres...| LLC and holds an...|                   f|https://a0.muscac...| https://a0.muscac...|          Dorchester|                  28|                  64|['email', 'phone'...|                   t|                   t|Boston, Massachus...|          Dorchester|              NULL|            42.32212|           -71.06096|  Entire rental unit|     Entire home/apt|                 7|                NULL|                   1 bath|                   3|                   3|            \"[\"\"Iron\"\"| \"\"Security camer...|              \"\"Oven\"\"|         \"\"Hot water kett...|         \"\"Heating\"\"| \"\"Dedicated work...| \"\"Air conditioni...| \"\"Free street pa...|     \"\"Smoke alarm\"\"|         \"\"Shampoo\"\"|          \"\"Washer\"\"|            \"\"Wifi\"\"| \"\"Carbon monoxid...|    \"\"Refrigerator\"\"|       \"\"Microwave\"\"|         \"\"Kitchen\"\"|      \"\"Dishwasher\"\"|        \"\"Smart lock\"\"|             \"\"Stove\"\"|         \"\"Hot water\"\"|        \"\"Hair dryer\"\"|   \"\"Dishes and sil...|   \"\"TV with standa...| \"\"Clothing stora...|         \"\"Toaster\"\"| \"\"Private entran...|  \"\"Cooking basics\"\"|         \"\"Hangers\"\"|   \"\"Self check-in\"\"|     \"\"Coffee maker\"\"|      \"\"Bed linens\"\"|  \"\"Fire extinguis...|             \"\"Dryer\"\"|    \"\"Essentials\"\"]\"|            $136.00 |                  30|                  1125|                       30|                   30|                       1125|                  1125|                  30|             1125|                NULL|\n",
      "|               29765|https://www.airbn...|Rental unit in Bo...|The apartment is ...| Boston's oldest a...|https://a0.muscac...|              128280|https://www.airbn...|           Elizabeth|           5/19/2010|          Boston, MA|Friendly art hist...|                NULL|              NULL|                NULL|                NULL|                NULL|                NULL|              NULL|                NULL|                     NULL|                NULL|                NULL|                  NULL|                NULL|                  NULL|                        NULL|                NULL|                NULL|                NULL|                NULL|                NULL|                NULL|                NULL|                NULL|                NULL|                NULL|                NULL|                NULL|                NULL|                  NULL|                  NULL|                  NULL|                  NULL|                  NULL|                  NULL|                NULL|                NULL|                NULL|                NULL|                NULL|                NULL|                 NULL|                NULL|                 NULL|                  NULL|                NULL|                NULL|                NULL|                  NULL|                     NULL|                 NULL|                       NULL|                  NULL|                NULL|             NULL|                NULL|\n",
      "|Born and raised i...| I love internati...| and Moroccan sty...|         in this way|  I am also sharin...|  within a few hours|                100%|                100%|                   f|https://a0.muscac...|https://a0.muscac...|         Charlestown|                   1|                 4|  ['email', 'phone']|                   t|                   t|Boston, Massachus...|       Charlestown|                NULL|                 42.37754|           -71.06642|  Entire rental unit|       Entire home/apt|                   2|                  NULL|                      1 bath|                   1|                   1|        \"[\"\"Coffee\"\"|            \"\"Iron\"\"| \"\"Hot water kett...|         \"\"Heating\"\"|     \"\"Smoke alarm\"\"|  \"\"Window AC unit\"\"|            \"\"Wifi\"\"| \"\"Handmade own b...|   \"\"First aid kit\"\"| \"\"Carbon monoxid...| \"\"Noble Isle sha...|         \"\"Microwave\"\"|           \"\"Kitchen\"\"|        \"\"Shower gel\"\"|   \"\"Cleaning produ...|             \"\"Stove\"\"|        \"\"Hair dryer\"\"|       \"\"Hot water\"\"| \"\"Dishes and sil...|    \"\"Wine glasses\"\"| \"\"TV with standa...|         \"\"Toaster\"\"|  \"\"Cooking basics\"\"|          \"\"Hangers\"\"| \"\"Noble Isle con...|     \"\"Coffee maker\"\"|       \"\"Mini fridge\"\"| \"\"Clothing stora...|      \"\"Bed linens\"\"| \"\"Extra pillows ...|   \"\"Host greets you\"\"|      \"\"Fire extinguis...|     \"\"Essentials\"\"]\"|                   $266.00 |                     2|                  28|                2|                   2|\n",
      "|               40601|https://www.airbn...|Home in Boston · ...|Private bedroom a...| Jamaica Plain is ...|https://a0.muscac...|              174986|https://www.airbn...|              Robert|           7/20/2010|          Boston, MA|Professional sing...|                NULL|              NULL|                NULL|                NULL|                NULL|                NULL|              NULL|                NULL|                     NULL|                NULL|                NULL|                  NULL|                NULL|                  NULL|                        NULL|                NULL|                NULL|                NULL|                NULL|                NULL|                NULL|                NULL|                NULL|                NULL|                NULL|                NULL|                NULL|                NULL|                  NULL|                  NULL|                  NULL|                  NULL|                  NULL|                  NULL|                NULL|                NULL|                NULL|                NULL|                NULL|                NULL|                 NULL|                NULL|                 NULL|                  NULL|                NULL|                NULL|                NULL|                  NULL|                     NULL|                 NULL|                       NULL|                  NULL|                NULL|             NULL|                NULL|\n",
      "|Outside of work I...| working out and ...|                   t|https://a0.muscac...| https://a0.muscac...|       Jamaica Plain|                   1|                   1|['email', 'phone'...|                   t|                   t|Boston, Massachus...|       Jamaica Plain|              NULL|            42.31347|           -71.11082|Private room in home|        Private room|                 2|                NULL|                1.5 baths|                NULL|                   1|            \"[\"\"Iron\"\"| \"\"Security camer...|              \"\"Oven\"\"|         \"\"Indoor firepla...| \"\"Hot water kett...|         \"\"Blender\"\"|         \"\"Heating\"\"| \"\"Clothing stora...| \"\"Dedicated work...| \"\"Central air co...| \"\"BBQ grill: cha...| \"\"Free washer \\u...| \"\"55\\\"\" HDTV wit...|     \"\"Garden view\"\"| \"\"Free street pa...|         \"\"Shampoo\"\"|     \"\"Smoke alarm\"\"|      \"\"Dining table\"\"|   \"\"Fast wifi \\u20...|     \"\"First aid kit\"\"|   \"\"Carbon monoxid...|      \"\"Refrigerator\"\"|   \"\"Outdoor furnit...|       \"\"Microwave\"\"|         \"\"Kitchen\"\"|      \"\"Dishwasher\"\"|         \"\"Bathtub\"\"| \"\"Private patio ...| \"\"Cleaning produ...|    \"\"Portable fans\"\"|         \"\"Hammock\"\"|  \"\"Luggage dropof...|     \"\"Record player\"\"|         \"\"Freezer\"\"| \"\"Coffee maker: ...|  pour-over coffee\"\"|   \"\"Stainless stee...|      \"\"Drying rack fo...|  \"\"Outdoor dining...|             \"\"Hair dryer\"\"|         \"\"Hot water\"\"| \"\"Dishes and sil...| \"\"Wine glasses\"\"| \"\"Laundromat nea...|\n",
      "|               45987|https://www.airbn...|Rental unit in Ch...|Light and spaciou...| Historical and safe.|https://a0.muscac...|              205107|https://www.airbn...|                Atef|           8/18/2010|          Boston, MA|I am homeowner an...|                NULL|              NULL|                NULL|                NULL|                NULL|                NULL|              NULL|                NULL|                     NULL|                NULL|                NULL|                  NULL|                NULL|                  NULL|                        NULL|                NULL|                NULL|                NULL|                NULL|                NULL|                NULL|                NULL|                NULL|                NULL|                NULL|                NULL|                NULL|                NULL|                  NULL|                  NULL|                  NULL|                  NULL|                  NULL|                  NULL|                NULL|                NULL|                NULL|                NULL|                NULL|                NULL|                 NULL|                NULL|                 NULL|                  NULL|                NULL|                NULL|                NULL|                  NULL|                     NULL|                 NULL|                       NULL|                  NULL|                NULL|             NULL|                NULL|\n",
      "|I love my house w...|           Barcelona|                NULL|                NULL|                 NULL|                NULL|                NULL|                NULL|                NULL|                NULL|                NULL|                NULL|                NULL|              NULL|                NULL|                NULL|                NULL|                NULL|              NULL|                NULL|                     NULL|                NULL|                NULL|                  NULL|                NULL|                  NULL|                        NULL|                NULL|                NULL|                NULL|                NULL|                NULL|                NULL|                NULL|                NULL|                NULL|                NULL|                NULL|                NULL|                NULL|                  NULL|                  NULL|                  NULL|                  NULL|                  NULL|                  NULL|                NULL|                NULL|                NULL|                NULL|                NULL|                NULL|                 NULL|                NULL|                 NULL|                  NULL|                NULL|                NULL|                NULL|                  NULL|                     NULL|                 NULL|                       NULL|                  NULL|                NULL|             NULL|                NULL|\n",
      "|I love to exercis...| cycling and weig...|                NULL|                NULL|                 NULL|                NULL|                NULL|                NULL|                NULL|                NULL|                NULL|                NULL|                NULL|              NULL|                NULL|                NULL|                NULL|                NULL|              NULL|                NULL|                     NULL|                NULL|                NULL|                  NULL|                NULL|                  NULL|                        NULL|                NULL|                NULL|                NULL|                NULL|                NULL|                NULL|                NULL|                NULL|                NULL|                NULL|                NULL|                NULL|                NULL|                  NULL|                  NULL|                  NULL|                  NULL|                  NULL|                  NULL|                NULL|                NULL|                NULL|                NULL|                NULL|                NULL|                 NULL|                NULL|                 NULL|                  NULL|                NULL|                NULL|                NULL|                  NULL|                     NULL|                 NULL|                       NULL|                  NULL|                NULL|             NULL|                NULL|\n",
      "|I also enjoy work...|  building furniture|                NULL|                NULL|                 NULL|                NULL|                NULL|                NULL|                NULL|                NULL|                NULL|                NULL|                NULL|              NULL|                NULL|                NULL|                NULL|                NULL|              NULL|                NULL|                     NULL|                NULL|                NULL|                  NULL|                NULL|                  NULL|                        NULL|                NULL|                NULL|                NULL|                NULL|                NULL|                NULL|                NULL|                NULL|                NULL|                NULL|                NULL|                NULL|                NULL|                  NULL|                  NULL|                  NULL|                  NULL|                  NULL|                  NULL|                NULL|                NULL|                NULL|                NULL|                NULL|                NULL|                 NULL|                NULL|                 NULL|                  NULL|                NULL|                NULL|                NULL|                  NULL|                     NULL|                 NULL|                       NULL|                  NULL|                NULL|             NULL|                NULL|\n",
      "|\",within an hour,...|           'phone']\"|         Charlestown|                NULL|             42.37424|           -71.06081|  Entire rental unit|     Entire home/apt|                   3|                NULL|              1 bath|                   1|                   1|      \"[\"\"Coffee\"\"| \"\"Free dryer \\u2...|            \"\"Iron\"\"|           \"\"Bidet\"\"| \"\"City skyline v...| \"\"Resort access\"\"| \"\"Hot water kett...|              \"\"Heating\"\"| \"\"Dedicated work...|   \"\"All body soap\"\"|       \"\"Garden view\"\"| \"\"Trash compactor\"\"|           \"\"Shampoo\"\"|             \"\"Smoke alarm\"\"|  \"\"Window AC unit\"\"| \"\"All conditioner\"\"|            \"\"Wifi\"\"|    \"\"Dining table\"\"| \"\"Exercise equip...| \"\"Carbon monoxid...|       \"\"Gas stove\"\"| \"\"Beach essentia...|         \"\"Lockbox\"\"| \"\"Free washer \\u...|    \"\"Refrigerator\"\"|       \"\"Park view\"\"| \"\"Outdoor furnit...|         \"\"Microwave\"\"|           \"\"Kitchen\"\"|        \"\"Dishwasher\"\"|           \"\"Bathtub\"\"|        \"\"Shower gel\"\"|   \"\"Cleaning produ...|         \"\"Freezer\"\"| \"\"Shared patio o...|       \"\"BBQ grill\"\"| \"\"Stainless stee...| \"\"Outdoor dining...|      \"\"Hair dryer\"\"|        \"\"Hot water\"\"| \"\"Dishes and sil...|   \"\"Courtyard view\"\"|        \"\"10\\\"\" HDTV\"\"|            \"\"Safe\"\"|    \"\"Wine glasses\"\"| \"\"Laundromat nea...|           \"\"Toaster\"\"|         \"\"Baking sheet\"\"|   \"\"Outdoor shower\"\"|        \"\"Barbecue utens...|   \"\"Private entran...|  \"\"Cooking basics\"\"|      \"\"Hangers\"\"| \"\"Private backya...|\n",
      "|               47521|https://www.airbn...|Home in Dorcheste...|Location: Beautif...| Dorchester is a h...|https://a0.muscac...|              119019|https://www.airbn...|             Hermina|            5/5/2010|          Boston, MA|Back to Air B&B! ...|                NULL|              NULL|                NULL|                NULL|                NULL|                NULL|              NULL|                NULL|                     NULL|                NULL|                NULL|                  NULL|                NULL|                  NULL|                        NULL|                NULL|                NULL|                NULL|                NULL|                NULL|                NULL|                NULL|                NULL|                NULL|                NULL|                NULL|                NULL|                NULL|                  NULL|                  NULL|                  NULL|                  NULL|                  NULL|                  NULL|                NULL|                NULL|                NULL|                NULL|                NULL|                NULL|                 NULL|                NULL|                 NULL|                  NULL|                NULL|                NULL|                NULL|                  NULL|                     NULL|                 NULL|                       NULL|                  NULL|                NULL|             NULL|                NULL|\n",
      "+--------------------+--------------------+--------------------+--------------------+---------------------+--------------------+--------------------+--------------------+--------------------+--------------------+--------------------+--------------------+--------------------+------------------+--------------------+--------------------+--------------------+--------------------+------------------+--------------------+-------------------------+--------------------+--------------------+----------------------+--------------------+----------------------+----------------------------+--------------------+--------------------+--------------------+--------------------+--------------------+--------------------+--------------------+--------------------+--------------------+--------------------+--------------------+--------------------+--------------------+----------------------+----------------------+----------------------+----------------------+----------------------+----------------------+--------------------+--------------------+--------------------+--------------------+--------------------+--------------------+---------------------+--------------------+---------------------+----------------------+--------------------+--------------------+--------------------+----------------------+-------------------------+---------------------+---------------------------+----------------------+--------------------+-----------------+--------------------+\n",
      "only showing top 20 rows\n",
      "\n"
     ]
    }
   ],
   "source": [
    "listings.show()"
   ]
  },
  {
   "cell_type": "code",
   "execution_count": null,
   "metadata": {
    "application/vnd.databricks.v1+cell": {
     "cellMetadata": {
      "byteLimit": 2048000,
      "rowLimit": 10000
     },
     "inputWidgets": {},
     "nuid": "263b147c-e818-409d-b694-cf80b9b3f116",
     "showTitle": false,
     "title": ""
    }
   },
   "outputs": [
    {
     "name": "stdout",
     "output_type": "stream",
     "text": [
      "+--------------------+--------------------+--------------------+---------------------+--------------------+------------------+--------------------+--------------------+--------------------+--------------------+--------------------+------------------+------------------+--------------------+--------------------+--------------------+--------------------+------------------+--------------------+-------------------------+--------------------+--------------------+----------------------+--------------------+----------------------+----------------------------+--------------+--------------------+--------------------+--------------------+--------------------+-------------------+----------------+-------------------+--------------------+--------------------+--------------------+--------------------+--------------------+----------------------+----------------------+----------------------+----------------------+----------------------+----------------------+--------------------+--------------------+--------------------+--------------------+--------------------+-------------------+---------------------+--------------------+---------------------+----------------------+--------------------+--------------------+--------------------+----------------------+-------------------------+---------------------+---------------------------+----------------------+-------------------+--------+-----------------+--------------------+\n",
      "|         listing_url|                name|         description|neighborhood_overview|         picture_url|           host_id|            host_url|           host_name|          host_since|       host_location|          host_about|host_response_time|host_response_rate|host_acceptance_rate|   host_is_superhost|  host_thumbnail_url|    host_picture_url|host_neighbourhood| host_listings_count|host_total_listings_count|  host_verifications|host_has_profile_pic|host_identity_verified|       neighbourhood|neighbourhood_cleansed|neighbourhood_group_cleansed|      latitude|           longitude|       property_type|           room_type|        accommodates|          bathrooms|  bathrooms_text|           bedrooms|                beds|           amenities|               price|      minimum_nights|      maximum_nights|minimum_minimum_nights|maximum_minimum_nights|minimum_maximum_nights|maximum_maximum_nights|minimum_nights_avg_ntm|maximum_nights_avg_ntm|    calendar_updated|    has_availability|     availability_30|     availability_60|     availability_90|   availability_365|calendar_last_scraped|   number_of_reviews|number_of_reviews_ltm|number_of_reviews_l30d|        first_review|         last_review|review_scores_rating|review_scores_accuracy|review_scores_cleanliness|review_scores_checkin|review_scores_communication|review_scores_location|review_scores_value| license|reviews_per_month|            comments|\n",
      "+--------------------+--------------------+--------------------+---------------------+--------------------+------------------+--------------------+--------------------+--------------------+--------------------+--------------------+------------------+------------------+--------------------+--------------------+--------------------+--------------------+------------------+--------------------+-------------------------+--------------------+--------------------+----------------------+--------------------+----------------------+----------------------------+--------------+--------------------+--------------------+--------------------+--------------------+-------------------+----------------+-------------------+--------------------+--------------------+--------------------+--------------------+--------------------+----------------------+----------------------+----------------------+----------------------+----------------------+----------------------+--------------------+--------------------+--------------------+--------------------+--------------------+-------------------+---------------------+--------------------+---------------------+----------------------+--------------------+--------------------+--------------------+----------------------+-------------------------+---------------------+---------------------------+----------------------+-------------------+--------+-----------------+--------------------+\n",
      "|https://www.airbn...|Condo in Boston ·...|My condo is locat...| ATTRACTIONS: Fenw...|https://a0.muscac...|          41266357|https://www.airbn...|               Frank|           8/12/2015|          Boston, MA|                NULL|    within an hour|               97%|                100%|                   f|https://a0.muscac...|https://a0.muscac...|           Roxbury|                   3|                        6|  ['email', 'phone']|                   t|                     t|Boston, Massachus...|               Roxbury|                        NULL|      42.32003|           -71.07525|        Entire condo|     Entire home/apt|                   4|               NULL|          1 bath|                  2|                   2|          \"[\"\"Iron\"\"| \"\"City skyline v...|         \"\"Heating\"\"| \"\"Air conditioni...|   \"\"Free street pa...|       \"\"Garden view\"\"|       \"\"Smoke alarm\"\"|              \"\"Wifi\"\"|     \"\"First aid kit\"\"|                \"\"TV\"\"| \"\"Carbon monoxid...|         \"\"Lockbox\"\"|    \"\"Refrigerator\"\"|         \"\"Kitchen\"\"| \"\"Private patio ...|      \"\"Hot water\"\"|       \"\"Hair dryer\"\"| \"\"Dishes and sil...|          \"\"Hangers\"\"|     \"\"Self check-in\"\"|    \"\"Coffee maker\"\"| \"\"Free parking o...| \"\"Fire extinguis...|      \"\"Essentials\"\"]\"|                 $193.00 |                    2|                       1125|                     3|                  3|    1125|             1125|Frank's place was...|\n",
      "|https://www.airbn...|Condo in Boston ·...|Comfortable,  Ful...| Peaceful, Archite...|https://a0.muscac...|              8229|https://www.airbn...|               Terry|           2/19/2009|          Boston, MA|Relaxed,  Easy go...|    within an hour|              100%|                100%|                   t|https://a0.muscac...|https://a0.muscac...|           Roxbury|                  11|                       14|  ['email', 'phone']|                   t|                     t|Boston, Massachus...|               Roxbury|                        NULL|      42.32802|           -71.09387|        Entire condo|     Entire home/apt|                   4|               NULL|          1 bath|               NULL|                   2|          \"[\"\"Iron\"\"|            \"\"Oven\"\"|         \"\"Heating\"\"| \"\"Air conditioni...|   \"\"Free street pa...|       \"\"Smoke alarm\"\"|           \"\"Shampoo\"\"|            \"\"Washer\"\"|              \"\"Wifi\"\"|   \"\"Carbon monoxid...|          \"\"Keypad\"\"|    \"\"Refrigerator\"\"|       \"\"Microwave\"\"|         \"\"Kitchen\"\"|      \"\"Dishwasher\"\"|          \"\"Stove\"\"|  \"\"Luggage dropof...|       \"\"Hot water\"\"|       \"\"Hair dryer\"\"|   \"\"Dishes and sil...| \"\"TV with standa...| \"\"Long term stay...|  \"\"Cooking basics\"\"|           \"\"Hangers\"\"|        \"\"Self check-in\"\"|     \"\"Coffee maker\"\"|        \"\"Fire extinguis...|             \"\"Dryer\"\"|   \"\"Essentials\"\"]\"|$179.00 |                3|Terry and Mindy w...|\n",
      "|https://www.airbn...|Home in Boston · ...|Private bedroom a...| Jamaica Plain is ...|https://a0.muscac...|            174986|https://www.airbn...|              Robert|           7/20/2010|          Boston, MA|Professional sing...|              NULL|              NULL|                NULL|                NULL|                NULL|                NULL|              NULL|                NULL|                     NULL|                NULL|                NULL|                  NULL|                NULL|                  NULL|                        NULL|          NULL|                NULL|                NULL|                NULL|                NULL|               NULL|            NULL|               NULL|                NULL|                NULL|                NULL|                NULL|                NULL|                  NULL|                  NULL|                  NULL|                  NULL|                  NULL|                  NULL|                NULL|                NULL|                NULL|                NULL|                NULL|               NULL|                 NULL|                NULL|                 NULL|                  NULL|                NULL|                NULL|                NULL|                  NULL|                     NULL|                 NULL|                       NULL|                  NULL|               NULL|    NULL|             NULL|I had a great sta...|\n",
      "|https://www.airbn...|Serviced apartmen...|Rent this fully f...|                 NULL|https://a0.muscac...|          48005494|https://www.airbn...|                Zeus|           11/2/2015|   San Francisco, CA|We built Zeus Liv...|              NULL|              NULL|                NULL|                NULL|                NULL|                NULL|              NULL|                NULL|                     NULL|                NULL|                NULL|                  NULL|                NULL|                  NULL|                        NULL|          NULL|                NULL|                NULL|                NULL|                NULL|               NULL|            NULL|               NULL|                NULL|                NULL|                NULL|                NULL|                NULL|                  NULL|                  NULL|                  NULL|                  NULL|                  NULL|                  NULL|                NULL|                NULL|                NULL|                NULL|                NULL|               NULL|                 NULL|                NULL|                 NULL|                  NULL|                NULL|                NULL|                NULL|                  NULL|                     NULL|                 NULL|                       NULL|                  NULL|               NULL|    NULL|             NULL|A fantastic locat...|\n",
      "|https://www.airbn...|Rental unit in Bo...|NEW for May 2022!...| Once its own city...|https://a0.muscac...|             71783|https://www.airbn...|               Lance|           1/19/2010|          Boston, MA|Lance R. Swank, P...|              NULL|              NULL|                NULL|                NULL|                NULL|                NULL|              NULL|                NULL|                     NULL|                NULL|                NULL|                  NULL|                NULL|                  NULL|                        NULL|          NULL|                NULL|                NULL|                NULL|                NULL|               NULL|            NULL|               NULL|                NULL|                NULL|                NULL|                NULL|                NULL|                  NULL|                  NULL|                  NULL|                  NULL|                  NULL|                  NULL|                NULL|                NULL|                NULL|                NULL|                NULL|               NULL|                 NULL|                NULL|                 NULL|                  NULL|                NULL|                NULL|                NULL|                  NULL|                     NULL|                 NULL|                       NULL|                  NULL|               NULL|    NULL|             NULL|My recent stay at...|\n",
      "|https://www.airbn...|Rental unit in Bo...|The apartment is ...| Boston's oldest a...|https://a0.muscac...|            128280|https://www.airbn...|           Elizabeth|           5/19/2010|          Boston, MA|Friendly art hist...|              NULL|              NULL|                NULL|                NULL|                NULL|                NULL|              NULL|                NULL|                     NULL|                NULL|                NULL|                  NULL|                NULL|                  NULL|                        NULL|          NULL|                NULL|                NULL|                NULL|                NULL|               NULL|            NULL|               NULL|                NULL|                NULL|                NULL|                NULL|                NULL|                  NULL|                  NULL|                  NULL|                  NULL|                  NULL|                  NULL|                NULL|                NULL|                NULL|                NULL|                NULL|               NULL|                 NULL|                NULL|                 NULL|                  NULL|                NULL|                NULL|                NULL|                  NULL|                     NULL|                 NULL|                       NULL|                  NULL|               NULL|    NULL|             NULL|\"Elizabeth's plac...|\n",
      "|https://www.airbn...|Guest suite in Bo...|Private guest roo...| Peaceful, Archite...|https://a0.muscac...|              8229|https://www.airbn...|               Terry|           2/19/2009|          Boston, MA|Relaxed,  Easy go...|    within an hour|              100%|                100%|                   t|https://a0.muscac...|https://a0.muscac...|           Roxbury|                  11|                       14|  ['email', 'phone']|                   t|                     t|Boston, Massachus...|               Roxbury|                        NULL|      42.32844|           -71.09581|  Entire guest suite|     Entire home/apt|                   2|               NULL|          1 bath|                  1|                   1|          \"[\"\"Iron\"\"|         \"\"Heating\"\"| \"\"Air conditioni...| \"\"Free street pa...|       \"\"Smoke alarm\"\"|           \"\"Shampoo\"\"|            \"\"Washer\"\"|              \"\"Wifi\"\"|     \"\"First aid kit\"\"|   \"\"Carbon monoxid...|          \"\"Keypad\"\"|    \"\"Refrigerator\"\"|       \"\"Microwave\"\"|         \"\"Bathtub\"\"| \"\"Luggage dropof...|      \"\"Hot water\"\"|       \"\"Hair dryer\"\"| \"\"Dishes and sil...|  \"\"TV with standa...|   \"\"Long term stay...| \"\"Private entran...|         \"\"Hangers\"\"|   \"\"Self check-in\"\"|      \"\"Coffee maker\"\"|           \"\"Bed linens\"\"|  \"\"Extra pillows ...|        \"\"Fire extinguis...|             \"\"Dryer\"\"|   \"\"Essentials\"\"]\"|$149.00 |                3|Enjoyed the small...|\n",
      "|https://www.airbn...|Rental unit in Bo...|This unit is for ...| Beacon Hill is a ...|https://a0.muscac...|             26988|https://www.airbn...|                Anne|           7/22/2009|          Boston, MA|I manage a number...|              NULL|              NULL|                NULL|                NULL|                NULL|                NULL|              NULL|                NULL|                     NULL|                NULL|                NULL|                  NULL|                NULL|                  NULL|                        NULL|          NULL|                NULL|                NULL|                NULL|                NULL|               NULL|            NULL|               NULL|                NULL|                NULL|                NULL|                NULL|                NULL|                  NULL|                  NULL|                  NULL|                  NULL|                  NULL|                  NULL|                NULL|                NULL|                NULL|                NULL|                NULL|               NULL|                 NULL|                NULL|                 NULL|                  NULL|                NULL|                NULL|                NULL|                  NULL|                     NULL|                 NULL|                       NULL|                  NULL|               NULL|    NULL|             NULL|Great location an...|\n",
      "|https://www.airbn...|Rental unit in Bo...|Fully separate ap...| \"Mostly quiet ( n...|https://a0.muscac...|              4804|https://www.airbn...|               Frank|           12/3/2008|Massachusetts, Un...|My wife and I and...|      within a day|              100%|                 21%|                   t|https://a0.muscac...|https://a0.muscac...|       East Boston|                   4|                        5|  ['email', 'phone']|                   t|                     f|Boston, Massachus...|           East Boston|                        NULL|      42.36413|           -71.02991|  Entire rental unit|     Entire home/apt|                   2|               NULL|          1 bath|                  1|                   1|          \"[\"\"Iron\"\"|            \"\"Oven\"\"|         \"\"Heating\"\"| \"\"Central air co...|   \"\"Free street pa...|       \"\"Smoke alarm\"\"|           \"\"Shampoo\"\"|            \"\"Washer\"\"|              \"\"Wifi\"\"|   \"\"Patio or balco...| \"\"Carbon monoxid...|    \"\"Refrigerator\"\"|       \"\"Microwave\"\"|         \"\"Kitchen\"\"|      \"\"Dishwasher\"\"|      \"\"Hot water\"\"|       \"\"Hair dryer\"\"| \"\"Dishes and sil...|  \"\"TV with standa...|    \"\"Cooking basics\"\"|         \"\"Hangers\"\"|    \"\"Coffee maker\"\"| \"\"Free parking o...|        \"\"Bed linens\"\"|      \"\"Extra pillows ...|            \"\"Stove\"\"|                  \"\"Dryer\"\"|      \"\"Essentials\"\"]\"|           $125.00 |      29|             1125|Great place.  Gre...|\n",
      "|https://www.airbn...|Rental unit in Ch...|Light and spaciou...| Historical and safe.|https://a0.muscac...|            205107|https://www.airbn...|                Atef|           8/18/2010|          Boston, MA|I am homeowner an...|              NULL|              NULL|                NULL|                NULL|                NULL|                NULL|              NULL|                NULL|                     NULL|                NULL|                NULL|                  NULL|                NULL|                  NULL|                        NULL|          NULL|                NULL|                NULL|                NULL|                NULL|               NULL|            NULL|               NULL|                NULL|                NULL|                NULL|                NULL|                NULL|                  NULL|                  NULL|                  NULL|                  NULL|                  NULL|                  NULL|                NULL|                NULL|                NULL|                NULL|                NULL|               NULL|                 NULL|                NULL|                 NULL|                  NULL|                NULL|                NULL|                NULL|                  NULL|                     NULL|                 NULL|                       NULL|                  NULL|               NULL|    NULL|             NULL|Atef was friendly...|\n",
      "|https://www.airbn...|Home in Dorcheste...|Location: Beautif...| Dorchester is a h...|https://a0.muscac...|            119019|https://www.airbn...|             Hermina|            5/5/2010|          Boston, MA|Back to Air B&B! ...|              NULL|              NULL|                NULL|                NULL|                NULL|                NULL|              NULL|                NULL|                     NULL|                NULL|                NULL|                  NULL|                NULL|                  NULL|                        NULL|          NULL|                NULL|                NULL|                NULL|                NULL|               NULL|            NULL|               NULL|                NULL|                NULL|                NULL|                NULL|                NULL|                  NULL|                  NULL|                  NULL|                  NULL|                  NULL|                  NULL|                NULL|                NULL|                NULL|                NULL|                NULL|               NULL|                 NULL|                NULL|                 NULL|                  NULL|                NULL|                NULL|                NULL|                  NULL|                     NULL|                 NULL|                       NULL|                  NULL|               NULL|    NULL|             NULL|Hermina responded...|\n",
      "|https://www.airbn...|Condo in Boston ·...|Hop on the MBTA, ...|                 NULL|https://a0.muscac...|          41266357|https://www.airbn...|               Frank|           8/12/2015|          Boston, MA|                NULL|    within an hour|               97%|                100%|                   f|https://a0.muscac...|https://a0.muscac...|           Roxbury|                   3|                        6|  ['email', 'phone']|                   t|                     t|                NULL|               Roxbury|                        NULL|      42.32023|           -71.07481|        Entire condo|     Entire home/apt|                   8|               NULL|          1 bath|                  3|                   3|          \"[\"\"Iron\"\"| \"\"City skyline v...|         \"\"Heating\"\"| \"\"Air conditioni...|   \"\"Free street pa...|       \"\"Garden view\"\"|       \"\"Smoke alarm\"\"|              \"\"Wifi\"\"|     \"\"First aid kit\"\"|                \"\"TV\"\"| \"\"Carbon monoxid...|         \"\"Lockbox\"\"|    \"\"Refrigerator\"\"|         \"\"Kitchen\"\"| \"\"Private patio ...|      \"\"Hot water\"\"|       \"\"Hair dryer\"\"| \"\"Dishes and sil...|   \"\"Cooking basics\"\"|           \"\"Hangers\"\"|   \"\"Self check-in\"\"|    \"\"Coffee maker\"\"| \"\"Free parking o...|   \"\"Fire extinguis...|         \"\"Essentials\"\"]\"|             $253.00 |                          3|                  1125|                  3|       3|             1125|   All was excellent|\n",
      "|https://www.airbn...|Serviced apartmen...|Rent this fully f...|                 NULL|https://a0.muscac...|          48005494|https://www.airbn...|                Zeus|           11/2/2015|   San Francisco, CA|We built Zeus Liv...|              NULL|              NULL|                NULL|                NULL|                NULL|                NULL|              NULL|                NULL|                     NULL|                NULL|                NULL|                  NULL|                NULL|                  NULL|                        NULL|          NULL|                NULL|                NULL|                NULL|                NULL|               NULL|            NULL|               NULL|                NULL|                NULL|                NULL|                NULL|                NULL|                  NULL|                  NULL|                  NULL|                  NULL|                  NULL|                  NULL|                NULL|                NULL|                NULL|                NULL|                NULL|               NULL|                 NULL|                NULL|                 NULL|                  NULL|                NULL|                NULL|                NULL|                  NULL|                     NULL|                 NULL|                       NULL|                  NULL|               NULL|    NULL|             NULL|An excellent long...|\n",
      "|https://www.airbn...|Condo in Boston ·...|Sun-filled, Chic ...| Great location, d...|https://a0.muscac...|          96961013|https://www.airbn...|                 Deb|           9/27/2016|       Cambridge, MA|Welcome to STARS ...|              NULL|              NULL|                NULL|                NULL|                NULL|                NULL|              NULL|                NULL|                     NULL|                NULL|                NULL|                  NULL|                NULL|                  NULL|                        NULL|          NULL|                NULL|                NULL|                NULL|                NULL|               NULL|            NULL|               NULL|                NULL|                NULL|                NULL|                NULL|                NULL|                  NULL|                  NULL|                  NULL|                  NULL|                  NULL|                  NULL|                NULL|                NULL|                NULL|                NULL|                NULL|               NULL|                 NULL|                NULL|                 NULL|                  NULL|                NULL|                NULL|                NULL|                  NULL|                     NULL|                 NULL|                       NULL|                  NULL|               NULL|    NULL|             NULL|This Airbnb was g...|\n",
      "|https://www.airbn...|Condo in Boston ·...|Beautiful, modern...| Quiet tree-lined ...|https://a0.muscac...|          96961013|https://www.airbn...|                 Deb|           9/27/2016|       Cambridge, MA|Welcome to STARS ...|              NULL|              NULL|                NULL|                NULL|                NULL|                NULL|              NULL|                NULL|                     NULL|                NULL|                NULL|                  NULL|                NULL|                  NULL|                        NULL|          NULL|                NULL|                NULL|                NULL|                NULL|               NULL|            NULL|               NULL|                NULL|                NULL|                NULL|                NULL|                NULL|                  NULL|                  NULL|                  NULL|                  NULL|                  NULL|                  NULL|                NULL|                NULL|                NULL|                NULL|                NULL|               NULL|                 NULL|                NULL|                 NULL|                  NULL|                NULL|                NULL|                NULL|                  NULL|                     NULL|                 NULL|                       NULL|                  NULL|               NULL|    NULL|             NULL|The only issue we...|\n",
      "|https://www.airbn...|Rental unit in Bo...|Stunning 3 bed 2 ...| Located on a quie...|https://a0.muscac...|          31340713|https://www.airbn...|                Kama|           4/16/2015|          Boston, MA|Welcome to STARS ...|              NULL|              NULL|                NULL|                NULL|                NULL|                NULL|              NULL|                NULL|                     NULL|                NULL|                NULL|                  NULL|                NULL|                  NULL|                        NULL|          NULL|                NULL|                NULL|                NULL|                NULL|               NULL|            NULL|               NULL|                NULL|                NULL|                NULL|                NULL|                NULL|                  NULL|                  NULL|                  NULL|                  NULL|                  NULL|                  NULL|                NULL|                NULL|                NULL|                NULL|                NULL|               NULL|                 NULL|                NULL|                 NULL|                  NULL|                NULL|                NULL|                NULL|                  NULL|                     NULL|                 NULL|                       NULL|                  NULL|               NULL|    NULL|             NULL|Very new and clea...|\n",
      "|           'phone']\"|         Beacon Hill|                NULL|             42.35867|           -71.06307|Entire rental unit|     Entire home/apt|                   2|                NULL|              1 bath|                   1|                 1|        \"[\"\"Iron\"\"|         \"\"Heating\"\"| \"\"Air conditioni...|     \"\"Smoke alarm\"\"|          \"\"Washer\"\"|          \"\"Wifi\"\"| \"\"Fire extinguis...|      \"\"Patio or balco...| \"\"Carbon monoxid...| \"\"Paid parking o...|      \"\"Refrigerator\"\"|       \"\"Microwave\"\"|           \"\"Kitchen\"\"|                \"\"Elevator\"\"| \"\"Hot water\"\"|      \"\"Hair dryer\"\"| \"\"Dishes and sil...| \"\"TV with standa...| \"\"Long term stay...| \"\"Cooking basics\"\"|     \"\"Hangers\"\"|   \"\"Coffee maker\"\"|           \"\"Stove\"\"|           \"\"Dryer\"\"|    \"\"Essentials\"\"]\"|             $90.00 |                  91|                   365|                    91|                    91|                   365|                   365|                    91|                 365|                NULL|                   t|                   0|                   0|                  0|                  159|           9/16/2023|                   27|                     2|                   1|           8/12/2014|           8/31/2023|                  4.67|                     4.67|                 4.52|                       4.93|                  4.96|               4.96|    4.56|             NULL|                NULL|\n",
      "| whether a newly ...|                NULL|                NULL|                 NULL|                NULL|              NULL|                NULL|                NULL|                NULL|                NULL|                NULL|              NULL|              NULL|                NULL|                NULL|                NULL|                NULL|              NULL|                NULL|                     NULL|                NULL|                NULL|                  NULL|                NULL|                  NULL|                        NULL|          NULL|                NULL|                NULL|                NULL|                NULL|               NULL|            NULL|               NULL|                NULL|                NULL|                NULL|                NULL|                NULL|                  NULL|                  NULL|                  NULL|                  NULL|                  NULL|                  NULL|                NULL|                NULL|                NULL|                NULL|                NULL|               NULL|                 NULL|                NULL|                 NULL|                  NULL|                NULL|                NULL|                NULL|                  NULL|                     NULL|                 NULL|                       NULL|                  NULL|               NULL|    NULL|             NULL|                NULL|\n",
      "| LLC and holds an...|                   f|https://a0.muscac...| https://a0.muscac...|          Dorchester|                28|                  64|['email', 'phone'...|                   t|                   t|Boston, Massachus...|        Dorchester|              NULL|            42.32212|           -71.06096|  Entire rental unit|     Entire home/apt|                 7|                NULL|                   1 bath|                   3|                   3|            \"[\"\"Iron\"\"| \"\"Security camer...|              \"\"Oven\"\"|         \"\"Hot water kett...|   \"\"Heating\"\"| \"\"Dedicated work...| \"\"Air conditioni...| \"\"Free street pa...|     \"\"Smoke alarm\"\"|        \"\"Shampoo\"\"|      \"\"Washer\"\"|           \"\"Wifi\"\"| \"\"Carbon monoxid...|    \"\"Refrigerator\"\"|       \"\"Microwave\"\"|         \"\"Kitchen\"\"|      \"\"Dishwasher\"\"|        \"\"Smart lock\"\"|             \"\"Stove\"\"|         \"\"Hot water\"\"|        \"\"Hair dryer\"\"|   \"\"Dishes and sil...|   \"\"TV with standa...| \"\"Clothing stora...|         \"\"Toaster\"\"| \"\"Private entran...|  \"\"Cooking basics\"\"|         \"\"Hangers\"\"|  \"\"Self check-in\"\"|     \"\"Coffee maker\"\"|      \"\"Bed linens\"\"|  \"\"Fire extinguis...|             \"\"Dryer\"\"|    \"\"Essentials\"\"]\"|            $136.00 |                  30|                  1125|                       30|                   30|                       1125|                  1125|                 30|    1125|             NULL|                NULL|\n",
      "| I love internati...| and Moroccan sty...|         in this way|  I am also sharin...|  within a few hours|              100%|                100%|                   f|https://a0.muscac...|https://a0.muscac...|         Charlestown|                 1|                 4|  ['email', 'phone']|                   t|                   t|Boston, Massachus...|       Charlestown|                NULL|                 42.37754|           -71.06642|  Entire rental unit|       Entire home/apt|                   2|                  NULL|                      1 bath|             1|                   1|        \"[\"\"Coffee\"\"|            \"\"Iron\"\"| \"\"Hot water kett...|        \"\"Heating\"\"| \"\"Smoke alarm\"\"| \"\"Window AC unit\"\"|            \"\"Wifi\"\"| \"\"Handmade own b...|   \"\"First aid kit\"\"| \"\"Carbon monoxid...| \"\"Noble Isle sha...|         \"\"Microwave\"\"|           \"\"Kitchen\"\"|        \"\"Shower gel\"\"|   \"\"Cleaning produ...|             \"\"Stove\"\"|        \"\"Hair dryer\"\"|       \"\"Hot water\"\"| \"\"Dishes and sil...|    \"\"Wine glasses\"\"| \"\"TV with standa...|         \"\"Toaster\"\"| \"\"Cooking basics\"\"|          \"\"Hangers\"\"| \"\"Noble Isle con...|     \"\"Coffee maker\"\"|       \"\"Mini fridge\"\"| \"\"Clothing stora...|      \"\"Bed linens\"\"| \"\"Extra pillows ...|   \"\"Host greets you\"\"|      \"\"Fire extinguis...|     \"\"Essentials\"\"]\"|                   $266.00 |                     2|                 28|       2|                2|                NULL|\n",
      "+--------------------+--------------------+--------------------+---------------------+--------------------+------------------+--------------------+--------------------+--------------------+--------------------+--------------------+------------------+------------------+--------------------+--------------------+--------------------+--------------------+------------------+--------------------+-------------------------+--------------------+--------------------+----------------------+--------------------+----------------------+----------------------------+--------------+--------------------+--------------------+--------------------+--------------------+-------------------+----------------+-------------------+--------------------+--------------------+--------------------+--------------------+--------------------+----------------------+----------------------+----------------------+----------------------+----------------------+----------------------+--------------------+--------------------+--------------------+--------------------+--------------------+-------------------+---------------------+--------------------+---------------------+----------------------+--------------------+--------------------+--------------------+----------------------+-------------------------+---------------------+---------------------------+----------------------+-------------------+--------+-----------------+--------------------+\n",
      "only showing top 20 rows\n",
      "\n"
     ]
    }
   ],
   "source": [
    "# add recent review to the listings table\n",
    "listings = listings.withColumnRenamed(\"id\", \"listing_id\")\n",
    "\n",
    "result_df = listings.join(latest_reviews.select(\"listing_id\", \"comments\").alias(\"latest_reviews\"),\n",
    "                           on=\"listing_id\",\n",
    "                           how=\"left_outer\")\n",
    "\n",
    "\n",
    "result_df = result_df.drop(\"listing_id\")\n",
    "\n",
    "result_df.show()"
   ]
  },
  {
   "cell_type": "code",
   "execution_count": null,
   "metadata": {
    "application/vnd.databricks.v1+cell": {
     "cellMetadata": {
      "byteLimit": 2048000,
      "rowLimit": 10000
     },
     "inputWidgets": {},
     "nuid": "fe8543a2-0869-4841-a3e5-77894efde976",
     "showTitle": false,
     "title": ""
    }
   },
   "outputs": [],
   "source": [
    "# Load \n",
    "\n",
    "sorted_reviews.repartition(1).write.mode(\"overwrite\").option(\"header\",'true').csv(\"/mnt/airbnbmountdata/transformed-data/b-sortedreviews\") \n",
    "result_df.repartition(1).write.mode(\"overwrite\").option(\"header\",'true').csv(\"/mnt/airbnbmountdata/transformed-data/b-listings\") \n"
   ]
  },
  {
   "cell_type": "code",
   "execution_count": null,
   "metadata": {
    "application/vnd.databricks.v1+cell": {
     "cellMetadata": {},
     "inputWidgets": {},
     "nuid": "302af065-3571-4bde-89aa-4739ff7de7ec",
     "showTitle": false,
     "title": ""
    }
   },
   "outputs": [],
   "source": []
  }
 ],
 "metadata": {
  "application/vnd.databricks.v1+notebook": {
   "dashboards": [],
   "language": "python",
   "notebookMetadata": {
    "mostRecentlyExecutedCommandWithImplicitDF": {
     "commandId": 2003117827503734,
     "dataframes": [
      "_sqldf"
     ]
    },
    "pythonIndentUnit": 4
   },
   "notebookName": "AirBnB Transform Data",
   "widgets": {}
  },
  "language_info": {
   "name": "python"
  }
 },
 "nbformat": 4,
 "nbformat_minor": 0
}
